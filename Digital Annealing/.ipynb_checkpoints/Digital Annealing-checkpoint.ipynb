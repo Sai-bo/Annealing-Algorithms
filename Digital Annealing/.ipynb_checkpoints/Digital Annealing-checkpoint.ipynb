{
 "cells": [
  {
   "cell_type": "markdown",
   "metadata": {},
   "source": [
    "This notebook aims to recreate a simulator for Fujitsu's digital annealing algorithm that runs on a CPU and/or GPU. <br>\n",
    "Ref. arXiv:1806.08815"
   ]
  },
  {
   "cell_type": "code",
   "execution_count": 1,
   "metadata": {},
   "outputs": [],
   "source": [
    "import numpy as np\n",
    "import numba as nb\n",
    "import time"
   ]
  },
  {
   "cell_type": "code",
   "execution_count": 2,
   "metadata": {},
   "outputs": [],
   "source": [
    "def default_temp_schedule(num_iter, temp_start, decay_rate, mode='EXPONENTIAL'):\n",
    "    \"\"\"\n",
    "    Generates a list of temperatures for annealing algorithms.\n",
    "    \n",
    "    Parameters:\n",
    "        num_iter (int): Length of the list.\n",
    "        temp_start (number): Value of the first element in the returned list.\n",
    "        decay_rate (number): Multiplier for changing the temperature during annealing.\n",
    "        mode (string, default='EXPONENTIAL'):\n",
    "            Three modes are possible. Note the accepted ranges for decay_rate are different.\n",
    "            'EXPONENTIAL':  T[i+1] = T[i] * (1 - decay_rate)           # 0 <= decay_rate < 1\n",
    "            'INVERSE':      T[i+1] = T[i] * (1 - decay_rate * T[i])    # 0 <= decay_rate < 1/temp_start\n",
    "            'INVERSE_ROOT': T[i+1] = T[i] * (1 - decay_rate * T[i]**2) # 0 <= decay_rate < 1/temp_start**2\n",
    "    \n",
    "    Return: temp_schedule (list[number])\n",
    "    \"\"\"\n",
    "    \n",
    "    if mode == 'EXPONENTIAL':\n",
    "        if 0 <= decay_rate < 1:\n",
    "            TS = [temp_start]\n",
    "            for _ in range(num_iter - 1):\n",
    "                TS.append(TS[-1] * (1 - decay_rate))\n",
    "            return TS\n",
    "        else:\n",
    "            raise ValueError(\"decay_rate out of accepted range\")\n",
    "    elif mode == 'INVERSE':\n",
    "        if 0 <= decay_rate < 1/temp_start:\n",
    "            TS = [temp_start]\n",
    "            for _ in range(num_iter - 1):\n",
    "                TS.append(TS[-1] * (1 - decay_rate * TS[-1]))\n",
    "            return TS\n",
    "        else:\n",
    "            raise ValueError(\"decay_rate out of accepted range\")\n",
    "    elif mode == 'INVERSE_ROOT':\n",
    "        if 0 <= decay_rate < 1/temp_start**2:\n",
    "            TS = [temp_start]\n",
    "            for _ in range(num_iter - 1):\n",
    "                TS.append(TS[-1] * (1 - decay_rate * TS[-1]**2))\n",
    "            return TS\n",
    "        else:\n",
    "            raise ValueError(\"decay_rate out of accepted range\")\n",
    "    else:\n",
    "        raise ValueError(\"mode not supported\")"
   ]
  },
  {
   "cell_type": "code",
   "execution_count": 12,
   "metadata": {},
   "outputs": [],
   "source": [
    "@nb.njit(parallel=False)\n",
    "def one_DA_run(Q_matrix, temp_schedule, ansatz_state=None, offset_increase_rate=0.):\n",
    "    \"\"\"\n",
    "    One digital annealing run over the full temperature schedule.\n",
    "    \n",
    "    Parameters:\n",
    "        Q_matrix (2-D array of float64): The matrix representing the local and coupling field of the problem.\n",
    "        temp_schedule (list[float64]): The annealing temperature schedule.\n",
    "                                       The number of iterations is implicitly the length of temp_schedule.\n",
    "        ansatz_state (1-D array of bool, default=None): The boolean vector representing the initial state.\n",
    "                                                        If None, a random state is chosen.\n",
    "        offset_increase_rate (float64, default=0): The parameter that prevents from being in the same state for too long.\n",
    "    \n",
    "    Return: final_state (1-D array of bool)\n",
    "    \"\"\"\n",
    "    \n",
    "    # Q_coef[i][j]: local field of i if i==j; coupling strength if i!=j\n",
    "    Q_coef = Q_matrix + Q_matrix.T - np.diag(Q_matrix)\n",
    "    N = Q_matrix.shape[0]\n",
    "    E_offset = 0.\n",
    "    \n",
    "    if ansatz_state is None:\n",
    "        state = (np.random.binomial(1, 0.5, N) == 1)\n",
    "    else:\n",
    "        state = ansatz_state\n",
    "    \n",
    "    for temp in temp_schedule:\n",
    "        accepted = np.zeros(N, dtype=np.bool_)\n",
    "        for flip in nb.prange(N):\n",
    "            delta_E = (1 - 2*state[flip]) * (np.sum(Q_coef[flip][state]) + Q_coef[flip, flip] * (1 - state[flip]))\n",
    "            if np.random.binomial(1, np.minimum(np.exp(-(delta_E - E_offset)/temp), 1.)):\n",
    "                accepted[flip] = True\n",
    "        \n",
    "        if np.any(accepted): # at least one flip is accepted\n",
    "            # a random bit flip is chosen from all the accepted flips\n",
    "            state[np.random.choice(accepted.nonzero()[0])] ^= True\n",
    "            E_offset = 0.\n",
    "        else:\n",
    "            E_offset += offset_increase_rate\n",
    "    \n",
    "    return state"
   ]
  },
  {
   "cell_type": "code",
   "execution_count": 4,
   "metadata": {},
   "outputs": [],
   "source": [
    "Q = np.array([[-1., 0., 0., 0.], [0., 1., 0., 0.], [0., 0., 1., 0.], [0., 0., 0., 1.]])\n",
    "ansatz = np.zeros(4, dtype=np.bool_)\n",
    "TS = default_temp_schedule(10000, 300., 0.001)"
   ]
  },
  {
   "cell_type": "code",
   "execution_count": 13,
   "metadata": {},
   "outputs": [
    {
     "name": "stdout",
     "output_type": "stream",
     "text": [
      "ground state: [ True False False False]; time: 1.2739269733428955 s\n"
     ]
    }
   ],
   "source": [
    "# Without numba\n",
    "np.random.seed(0)\n",
    "start_time = time.time()\n",
    "ans = one_DA_run(Q, TS, ansatz_state=ansatz)\n",
    "total_time = time.time() - start_time\n",
    "print(f'ground state: {ans}; time: {total_time} s')"
   ]
  },
  {
   "cell_type": "code",
   "execution_count": 7,
   "metadata": {},
   "outputs": [
    {
     "name": "stderr",
     "output_type": "stream",
     "text": [
      "C:\\ProgramData\\Anaconda3\\lib\\site-packages\\numba\\core\\ir_utils.py:2031: NumbaPendingDeprecationWarning: \u001b[1m\n",
      "Encountered the use of a type that is scheduled for deprecation: type 'reflected list' found for argument 'temp_schedule' of function 'one_DA_run'.\n",
      "\n",
      "For more information visit https://numba.pydata.org/numba-doc/latest/reference/deprecation.html#deprecation-of-reflection-for-list-and-set-types\n",
      "\u001b[1m\n",
      "File \"<ipython-input-6-6ead41ea293d>\", line 2:\u001b[0m\n",
      "\u001b[1m@nb.njit(parallel=False)\n",
      "\u001b[1mdef one_DA_run(Q_matrix, temp_schedule, ansatz_state=None, offset_increase_rate=0.):\n",
      "\u001b[0m\u001b[1m^\u001b[0m\u001b[0m\n",
      "\u001b[0m\n",
      "  warnings.warn(NumbaPendingDeprecationWarning(msg, loc=loc))\n"
     ]
    },
    {
     "name": "stdout",
     "output_type": "stream",
     "text": [
      "ground state: [ True False False False]; time: 2.25362229347229 s\n"
     ]
    }
   ],
   "source": [
    "# With numba, not parallelized, first pass\n",
    "np.random.seed(0)\n",
    "start_time = time.time()\n",
    "ans = one_DA_run(Q, TS, ansatz_state=ansatz)\n",
    "total_time = time.time() - start_time\n",
    "print(f'ground state: {ans}; time: {total_time} s')"
   ]
  },
  {
   "cell_type": "code",
   "execution_count": 8,
   "metadata": {},
   "outputs": [
    {
     "name": "stdout",
     "output_type": "stream",
     "text": [
      "ground state: [ True False False False]; time: 0.03602242469787598 s\n"
     ]
    }
   ],
   "source": [
    "# With numba, not parallelized, second pass\n",
    "np.random.seed(0)\n",
    "start_time = time.time()\n",
    "ans = one_DA_run(Q, TS, ansatz_state=ansatz)\n",
    "total_time = time.time() - start_time\n",
    "print(f'ground state: {ans}; time: {total_time} s')"
   ]
  },
  {
   "cell_type": "code",
   "execution_count": 10,
   "metadata": {},
   "outputs": [
    {
     "name": "stderr",
     "output_type": "stream",
     "text": [
      "C:\\ProgramData\\Anaconda3\\lib\\site-packages\\numba\\core\\ir_utils.py:2031: NumbaPendingDeprecationWarning: \u001b[1m\n",
      "Encountered the use of a type that is scheduled for deprecation: type 'reflected list' found for argument 'temp_schedule' of function 'one_DA_run'.\n",
      "\n",
      "For more information visit https://numba.pydata.org/numba-doc/latest/reference/deprecation.html#deprecation-of-reflection-for-list-and-set-types\n",
      "\u001b[1m\n",
      "File \"<ipython-input-9-711b639fac8b>\", line 2:\u001b[0m\n",
      "\u001b[1m@nb.njit(parallel=True)\n",
      "\u001b[1mdef one_DA_run(Q_matrix, temp_schedule, ansatz_state=None, offset_increase_rate=0.):\n",
      "\u001b[0m\u001b[1m^\u001b[0m\u001b[0m\n",
      "\u001b[0m\n",
      "  warnings.warn(NumbaPendingDeprecationWarning(msg, loc=loc))\n"
     ]
    },
    {
     "name": "stdout",
     "output_type": "stream",
     "text": [
      "ground state: [ True False False False]; time: 3.3223562240600586 s\n"
     ]
    }
   ],
   "source": [
    "# With numba, parallelized, first pass\n",
    "np.random.seed(0)\n",
    "start_time = time.time()\n",
    "ans = one_DA_run(Q, TS, ansatz_state=ansatz)\n",
    "total_time = time.time() - start_time\n",
    "print(f'ground state: {ans}; time: {total_time} s')"
   ]
  },
  {
   "cell_type": "code",
   "execution_count": 11,
   "metadata": {},
   "outputs": [
    {
     "name": "stdout",
     "output_type": "stream",
     "text": [
      "ground state: [ True False False False]; time: 0.09706830978393555 s\n"
     ]
    }
   ],
   "source": [
    "# With numba, parallelized, second pass\n",
    "np.random.seed(0)\n",
    "start_time = time.time()\n",
    "ans = one_DA_run(Q, TS, ansatz_state=ansatz)\n",
    "total_time = time.time() - start_time\n",
    "print(f'ground state: {ans}; time: {total_time} s')"
   ]
  },
  {
   "cell_type": "code",
   "execution_count": null,
   "metadata": {},
   "outputs": [],
   "source": []
  }
 ],
 "metadata": {
  "kernelspec": {
   "display_name": "Python 3",
   "language": "python",
   "name": "python3"
  },
  "language_info": {
   "codemirror_mode": {
    "name": "ipython",
    "version": 3
   },
   "file_extension": ".py",
   "mimetype": "text/x-python",
   "name": "python",
   "nbconvert_exporter": "python",
   "pygments_lexer": "ipython3",
   "version": "3.7.1"
  }
 },
 "nbformat": 4,
 "nbformat_minor": 4
}
