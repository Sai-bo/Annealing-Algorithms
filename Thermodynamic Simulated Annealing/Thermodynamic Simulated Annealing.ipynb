{
 "cells": [
  {
   "cell_type": "markdown",
   "metadata": {},
   "source": [
    "This notebook aims to recreate an annealer machine running simulated annealing."
   ]
  },
  {
   "cell_type": "code",
   "execution_count": 6,
   "metadata": {},
   "outputs": [],
   "source": [
    "import numpy as np\n",
    "import numba as nb\n",
    "import time"
   ]
  },
  {
   "cell_type": "code",
   "execution_count": 44,
   "metadata": {},
   "outputs": [],
   "source": [
    "@nb.njit(parallel=False)\n",
    "def one_TSA_run(Q_matrix, T_end, anneal_speed, ansatz_state=None):\n",
    "    \"\"\"\n",
    "    One thermodynamic simulated annealing run.\n",
    "    \n",
    "    Parameters:\n",
    "        Q_matrix (2-D array of float64): The matrix representing the local and coupling field of the problem.\n",
    "        T_end (float64): Temperature at the end of annealing.\n",
    "        anneal_speed (float64): A parameter controlling the run-time/quality tradeoff.\n",
    "        ansatz_state (1-D array of bool, default=None): The boolean vector representing the initial state.\n",
    "                                                        If not None, a low starting temperature is chosen.\n",
    "                                                        If None, a random state is chosen. Starting temperature is\n",
    "                                                        calculated through a initial sequence of random transformations.\n",
    "    \n",
    "    Return: final_state (1-D array of bool)\n",
    "    \"\"\"\n",
    "    \n",
    "    # Q_coef[i][j]: local field of i if i==j; coupling strength if i!=j\n",
    "    Q_coef = Q_matrix + Q_matrix.T - np.diag(Q_matrix)\n",
    "    N = Q_matrix.shape[0]\n",
    "    \n",
    "    if ansatz_state is None:\n",
    "        # calculate T_init\n",
    "        state = (np.random.binomial(1, 0.5, N) == 1)\n",
    "    else:\n",
    "        # set T_init to be low\n",
    "        state = ansatz_state\n",
    "    \n",
    "    temp = T_init\n",
    "    \n",
    "    while temp > T_end:# or temp not stabilized:\n",
    "        flip = np.random.randint(N)\n",
    "        delta_E = (1 - 2*state[flip]) * (np.sum(Q_coef[flip][state]) + Q_coef[flip, flip] * (1 - state[flip]))\n",
    "        if np.random.binomial(1, np.minimum(np.exp(-delta_E/temp), 1.)):\n",
    "            state[flip] ^= True\n",
    "            total_delta_E += delta_E\n",
    "        \n",
    "        if delta_E > 0:\n",
    "            delta_S -= delta_E / temp\n",
    "        \n",
    "        if total_delta_E >= 0 or delta_S == 0:\n",
    "            temp = T_init\n",
    "        else:\n",
    "            temp = anneal_speed * total_delta_E / delta_S\n",
    "    \n",
    "    return state"
   ]
  },
  {
   "cell_type": "code",
   "execution_count": 41,
   "metadata": {},
   "outputs": [],
   "source": [
    "Q = np.array([[-1., 0., 0., 0.], [0., 1., 0., 0.], [0., 0., 1., 0.], [0., 0., 0., 1.]])\n",
    "ansatz = np.zeros(4, dtype=np.bool_)"
   ]
  },
  {
   "cell_type": "code",
   "execution_count": 42,
   "metadata": {},
   "outputs": [
    {
     "name": "stderr",
     "output_type": "stream",
     "text": [
      "C:\\ProgramData\\Anaconda3\\lib\\site-packages\\numba\\core\\ir_utils.py:2031: NumbaPendingDeprecationWarning: \u001b[1m\n",
      "Encountered the use of a type that is scheduled for deprecation: type 'reflected list' found for argument 'temp_schedule' of function 'one_SA_run'.\n",
      "\n",
      "For more information visit https://numba.pydata.org/numba-doc/latest/reference/deprecation.html#deprecation-of-reflection-for-list-and-set-types\n",
      "\u001b[1m\n",
      "File \"<ipython-input-40-2ef8f95cc4a7>\", line 2:\u001b[0m\n",
      "\u001b[1m@nb.njit(parallel=False)\n",
      "\u001b[1mdef one_SA_run(Q_matrix, temp_schedule, ansatz_state=None):\n",
      "\u001b[0m\u001b[1m^\u001b[0m\u001b[0m\n",
      "\u001b[0m\n",
      "  warnings.warn(NumbaPendingDeprecationWarning(msg, loc=loc))\n"
     ]
    },
    {
     "name": "stdout",
     "output_type": "stream",
     "text": [
      "ground state: [ True False False False]; time: 0.6684708595275879 s\n"
     ]
    }
   ],
   "source": [
    "# With numba, not parallelized, first pass\n",
    "np.random.seed(0)\n",
    "start_time = time.time()\n",
    "ans = one_TSA_run(Q, TS, ansatz_state=ansatz)\n",
    "total_time = time.time() - start_time\n",
    "print(f'ground state: {ans}; time: {total_time} s')"
   ]
  },
  {
   "cell_type": "code",
   "execution_count": 43,
   "metadata": {},
   "outputs": [
    {
     "name": "stdout",
     "output_type": "stream",
     "text": [
      "ground state: [ True False False False]; time: 0.026996374130249023 s\n"
     ]
    }
   ],
   "source": [
    "# With numba, not parallelized, second pass\n",
    "np.random.seed(0)\n",
    "start_time = time.time()\n",
    "ans = one_TSA_run(Q, TS, ansatz_state=ansatz)\n",
    "total_time = time.time() - start_time\n",
    "print(f'ground state: {ans}; time: {total_time} s')"
   ]
  },
  {
   "cell_type": "code",
   "execution_count": 46,
   "metadata": {},
   "outputs": [
    {
     "name": "stderr",
     "output_type": "stream",
     "text": [
      "C:\\ProgramData\\Anaconda3\\lib\\site-packages\\numba\\core\\ir_utils.py:2031: NumbaPendingDeprecationWarning: \u001b[1m\n",
      "Encountered the use of a type that is scheduled for deprecation: type 'reflected list' found for argument 'temp_schedule' of function 'one_SA_run'.\n",
      "\n",
      "For more information visit https://numba.pydata.org/numba-doc/latest/reference/deprecation.html#deprecation-of-reflection-for-list-and-set-types\n",
      "\u001b[1m\n",
      "File \"<ipython-input-44-52216e0bac78>\", line 2:\u001b[0m\n",
      "\u001b[1m@nb.njit(parallel=True)\n",
      "\u001b[1mdef one_SA_run(Q_matrix, temp_schedule, ansatz_state=None):\n",
      "\u001b[0m\u001b[1m^\u001b[0m\u001b[0m\n",
      "\u001b[0m\n",
      "  warnings.warn(NumbaPendingDeprecationWarning(msg, loc=loc))\n"
     ]
    },
    {
     "name": "stdout",
     "output_type": "stream",
     "text": [
      "ground state: [ True False False False]; time: 2.386690855026245 s\n"
     ]
    }
   ],
   "source": [
    "# With numba, parallelized, first pass\n",
    "np.random.seed(0)\n",
    "start_time = time.time()\n",
    "ans = one_TSA_run(Q, TS, ansatz_state=ansatz)\n",
    "total_time = time.time() - start_time\n",
    "print(f'ground state: {ans}; time: {total_time} s')"
   ]
  },
  {
   "cell_type": "code",
   "execution_count": 47,
   "metadata": {},
   "outputs": [
    {
     "name": "stdout",
     "output_type": "stream",
     "text": [
      "ground state: [ True False False False]; time: 0.09206318855285645 s\n"
     ]
    }
   ],
   "source": [
    "# With numba, parallelized, second pass\n",
    "np.random.seed(0)\n",
    "start_time = time.time()\n",
    "ans = one_TSA_run(Q, TS, ansatz_state=ansatz)\n",
    "total_time = time.time() - start_time\n",
    "print(f'ground state: {ans}; time: {total_time} s')"
   ]
  },
  {
   "cell_type": "code",
   "execution_count": 21,
   "metadata": {},
   "outputs": [
    {
     "data": {
      "text/plain": [
       "-1.0"
      ]
     },
     "execution_count": 21,
     "metadata": {},
     "output_type": "execute_result"
    }
   ],
   "source": [
    "Q[0][0]"
   ]
  },
  {
   "cell_type": "code",
   "execution_count": 22,
   "metadata": {},
   "outputs": [
    {
     "data": {
      "text/plain": [
       "-1.0"
      ]
     },
     "execution_count": 22,
     "metadata": {},
     "output_type": "execute_result"
    }
   ],
   "source": [
    "Q[0, 0]"
   ]
  },
  {
   "cell_type": "code",
   "execution_count": null,
   "metadata": {},
   "outputs": [],
   "source": []
  }
 ],
 "metadata": {
  "kernelspec": {
   "display_name": "Python 3",
   "language": "python",
   "name": "python3"
  },
  "language_info": {
   "codemirror_mode": {
    "name": "ipython",
    "version": 3
   },
   "file_extension": ".py",
   "mimetype": "text/x-python",
   "name": "python",
   "nbconvert_exporter": "python",
   "pygments_lexer": "ipython3",
   "version": "3.7.1"
  }
 },
 "nbformat": 4,
 "nbformat_minor": 4
}
