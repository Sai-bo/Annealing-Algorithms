{
 "cells": [
  {
   "cell_type": "markdown",
   "metadata": {},
   "source": [
    "Inspired by PhysRevX.6.031015, this notebook is designed to test the capability of DA. Two tests are considered:\n",
    "\n",
    "1. Cluster network problem: (crafted)\n",
    "- Local and global minima are easily observed.\n",
    "- The network can be designed to suit the physical layout of the annealer.\n",
    "- Obvious advantage for annealers with cotunneling capabilities.\n",
    "\n",
    "2. Number Partitioning problem: (generic) (to be implemented)\n",
    "- Of more practical interest.\n",
    "- Widely researched. <p>\n",
    "\n",
    "The effects of common penalty terms on energy landscape of common penalty terms are also explored in the notebook."
   ]
  },
  {
   "cell_type": "code",
   "execution_count": 12,
   "metadata": {},
   "outputs": [],
   "source": [
    "import numpy as np\n",
    "import scipy as sp\n",
    "#import numba as nb\n",
    "import pyqubo as pq\n",
    "import time\n",
    "from fdamod import FDASampler"
   ]
  },
  {
   "cell_type": "code",
   "execution_count": 2,
   "metadata": {},
   "outputs": [],
   "source": [
    "ENDPOINT = 'https://api.aispf.global.fujitsu.com/da'\n",
    "TOKEN = 'fd4a6174525620b70a0b98d050b7f6829e50228005f73be1d7b008ac973967cf'"
   ]
  },
  {
   "cell_type": "markdown",
   "metadata": {},
   "source": [
    "### Temperature schedule creation subroutine"
   ]
  },
  {
   "cell_type": "code",
   "execution_count": 3,
   "metadata": {},
   "outputs": [],
   "source": [
    "def default_temp_schedule(num_iter, temp_start, decay_rate, mode='EXPONENTIAL'):\n",
    "    \"\"\"\n",
    "    Generates a list of temperatures for annealing algorithms.\n",
    "    \n",
    "    Parameters:\n",
    "        num_iter (int): Length of the list.\n",
    "        temp_start (number): Value of the first element in the returned list.\n",
    "        decay_rate (number): Multiplier for changing the temperature during annealing.\n",
    "        mode (string, default='EXPONENTIAL'):\n",
    "            Three modes are possible. Note the accepted ranges for decay_rate are different.\n",
    "            'EXPONENTIAL':  T[i+1] = T[i] * (1 - decay_rate)           # 0 <= decay_rate < 1\n",
    "            'INVERSE':      T[i+1] = T[i] * (1 - decay_rate * T[i])    # 0 <= decay_rate < 1/temp_start\n",
    "            'INVERSE_ROOT': T[i+1] = T[i] * (1 - decay_rate * T[i]**2) # 0 <= decay_rate < 1/temp_start**2\n",
    "    \n",
    "    Return: temp_schedule (list[number])\n",
    "    \"\"\"\n",
    "    \n",
    "    if mode == 'EXPONENTIAL':\n",
    "        if 0 <= decay_rate < 1:\n",
    "            TS = [temp_start]\n",
    "            for _ in range(num_iter - 1):\n",
    "                TS.append(TS[-1] * (1 - decay_rate))\n",
    "            return TS\n",
    "        else:\n",
    "            raise ValueError(\"decay_rate out of accepted range\")\n",
    "    elif mode == 'INVERSE':\n",
    "        if 0 <= decay_rate < 1/temp_start:\n",
    "            TS = [temp_start]\n",
    "            for _ in range(num_iter - 1):\n",
    "                TS.append(TS[-1] * (1 - decay_rate * TS[-1]))\n",
    "            return TS\n",
    "        else:\n",
    "            raise ValueError(\"decay_rate out of accepted range\")\n",
    "    elif mode == 'INVERSE_ROOT':\n",
    "        if 0 <= decay_rate < 1/temp_start**2:\n",
    "            TS = [temp_start]\n",
    "            for _ in range(num_iter - 1):\n",
    "                TS.append(TS[-1] * (1 - decay_rate * TS[-1]**2))\n",
    "            return TS\n",
    "        else:\n",
    "            raise ValueError(\"decay_rate out of accepted range\")\n",
    "    else:\n",
    "        raise ValueError(\"mode not supported\")"
   ]
  },
  {
   "cell_type": "markdown",
   "metadata": {},
   "source": [
    "### Import problem instances from PhysRevX.6.031015"
   ]
  },
  {
   "cell_type": "code",
   "execution_count": 37,
   "metadata": {},
   "outputs": [],
   "source": [
    "def build_H(size, ins):\n",
    "    abs_file_path = \"D:/GitHub/Annealing-Algorithms/Digital Annealing/PhysRevX.6.031015_instances/\"\\\n",
    "                    f\"size{size}/size{size}_rt0.44_{ins:04d}.txt\" # absolute dir\n",
    "    H = 0\n",
    "    spins = {}\n",
    "    with open(abs_file_path, 'r') as f:\n",
    "        J_iter = iter(f.read().split())\n",
    "        for i, j, coef in zip(J_iter, J_iter, J_iter):\n",
    "            if i == j:\n",
    "                if ins == 0:\n",
    "                    spins[i] = pq.Spin(i)\n",
    "                H += float(coef) * spins[i]\n",
    "            else:\n",
    "                H += float(coef) * spins[i] * spins[j]\n",
    "        \n",
    "    return H"
   ]
  },
  {
   "cell_type": "code",
   "execution_count": 23,
   "metadata": {},
   "outputs": [],
   "source": [
    "def build_csr(size, ins):\n",
    "    from scipy.sparse import csr_matrix\n",
    "    \n",
    "    qubo, offset = build_H(size, ins).compile().to_qubo(index_label=True)\n",
    "    \n",
    "    # Iterate over dok to construct coo sparse matrix\n",
    "    data = []\n",
    "    row_ind = []\n",
    "    col_ind = []\n",
    "    for ind, coef in qubo.items():\n",
    "        data.append(coef)\n",
    "        row_ind.append(ind[0])\n",
    "        col_ind.append(ind[1])\n",
    "    \n",
    "    # Return csr sparse matrix\n",
    "    return csr_matrix((data, (row_ind, col_ind)))"
   ]
  },
  {
   "cell_type": "markdown",
   "metadata": {},
   "source": [
    "### FDA simulator"
   ]
  },
  {
   "cell_type": "code",
   "execution_count": 18,
   "metadata": {},
   "outputs": [],
   "source": [
    "#@nb.njit(parallel=False)\n",
    "def one_DA_run(Q_matrix, temp_schedule, ansatz_state=None, offset_increase_rate=0):\n",
    "    \"\"\"\n",
    "    One digital annealing run over the full temperature schedule.\n",
    "    \n",
    "    Parameters:\n",
    "        Q_matrix (2-D array of float64): The QUBO matrix representing the local and coupling field of the problem.\n",
    "        temp_schedule (list[float64]): The annealing temperature schedule.\n",
    "                                       The number of iterations is implicitly the length of temp_schedule.\n",
    "        ansatz_state (1-D array of bool, default=None): The boolean vector representing the initial state.\n",
    "                                                        If None, a random state is chosen.\n",
    "        offset_increase_rate (scalar, default=0): The parameter that prevents from being in the same state for too long.\n",
    "    \n",
    "    Return: final_state (1-D array of bool)\n",
    "    \"\"\"\n",
    "    \n",
    "    N = Q_matrix.shape[0]\n",
    "    E_offset = 0\n",
    "    \n",
    "    if ansatz_state is None:\n",
    "        state = (np.random.binomial(1, 0.5, N) == 1)\n",
    "    else:\n",
    "        state = ansatz_state\n",
    "    \n",
    "    for temp in temp_schedule:\n",
    "        candidate_states = (state.repeat(N).reshape((-1, N)) ^ np.eye(N, dtype=np.bool_))\n",
    "        delta_E = (candidate_states * Q_matrix.dot(candidate_states).T).sum(-1) - state.dot(Q_matrix.dot(state))\n",
    "        accepted = np.random.binomial(1, np.minimum(np.exp(-(delta_E - E_offset)/temp), np.ones(N)))\n",
    "        \n",
    "        if np.any(accepted): # at least one flip is accepted\n",
    "            # a random bit flip is chosen from all the accepted flips\n",
    "            state[np.random.choice(accepted.nonzero()[0])] ^= True\n",
    "            E_offset = 0\n",
    "        else:\n",
    "            E_offset += offset_increase_rate\n",
    "    \n",
    "    return state"
   ]
  },
  {
   "cell_type": "markdown",
   "metadata": {},
   "source": [
    "### Benchmarking loop on local machine (simulator)"
   ]
  },
  {
   "cell_type": "code",
   "execution_count": 38,
   "metadata": {},
   "outputs": [
    {
     "name": "stderr",
     "output_type": "stream",
     "text": [
      "C:\\ProgramData\\Anaconda3\\lib\\site-packages\\ipykernel_launcher.py:28: RuntimeWarning: overflow encountered in exp\n"
     ]
    },
    {
     "name": "stdout",
     "output_type": "stream",
     "text": [
      "ground state: [ True False  True False False False False False False False  True  True\n",
      "  True False False False  True False False  True False False False  True\n",
      " False  True False  True  True False  True False False  True False False\n",
      " False  True  True  True  True False  True False  True False  True  True\n",
      " False False False  True  True False  True False  True  True  True  True\n",
      "  True False False False False False False False  True False  True False\n",
      " False False  True False False False  True False False False  True False\n",
      "  True False  True  True False False False  True  True False False False\n",
      " False False  True False False False False False  True False False  True\n",
      " False False False False  True False  True  True False  True  True  True\n",
      " False False  True  True  True False  True False False False False  True\n",
      "  True False  True  True False  True False False False False  True  True\n",
      " False  True  True  True  True False  True  True  True  True  True False\n",
      "  True  True  True  True False  True  True False  True False False False\n",
      "  True False  True False  True  True False  True False  True  True  True]; time: 59.99109482765198 s\n"
     ]
    }
   ],
   "source": [
    "s = 1\n",
    "TS = default_temp_schedule(10**5, 300., 10**(-4))\n",
    "np.random.seed(0)\n",
    "\n",
    "for ins in range(1):\n",
    "    Q = build_csr(s, ins)\n",
    "    start_time = time.time()\n",
    "    ans = one_DA_run(Q, TS)\n",
    "    total_time = time.time() - start_time\n",
    "    print(f'ground state: {ans}; time: {total_time} s')"
   ]
  },
  {
   "cell_type": "markdown",
   "metadata": {},
   "source": [
    "### Benchmarking loop on real DAU"
   ]
  },
  {
   "cell_type": "raw",
   "metadata": {},
   "source": [
    "s = 1\n",
    "sampler = FDASampler.create(ENDPOINT, TOKEN, api_ver='v2', solver='fujitsuDA2')\n",
    "num_iter = 5*10**7\n",
    "num_runs = 16\n",
    "\n",
    "with open(\"PhysRevX.6.031015_DA.txt\", 'a') as f2:\n",
    "    f2.write(f\"size={s}, num_iter={num_iter:1.0e}\\n\")\n",
    "\n",
    "for ins in range(1):\n",
    "    \n",
    "    H = build_H(s, ins)\n",
    "    model = H.compile()\n",
    "    qubo, offset = model.to_qubo(index_label=True)\n",
    "    \n",
    "    sampleset = sampler.sample_qubo(qubo, encode_type='sparse', \\\n",
    "                parameters={\"number_iterations\":num_iter, \"number_runs\":num_runs, \"expert_mode\":False})\n",
    "    \n",
    "    with open(\"PhysRevX.6.031015_DA.txt\", 'a') as f2:\n",
    "        for x in sampleset.data():\n",
    "            if x[1] != sampleset.first[1]:\n",
    "                break\n",
    "            f2.write(f\"{ins}, {x[1]+offset:.2f}, {x[2]}, {sampleset.info['timing']['detailed']['anneal_time']}\\n\")"
   ]
  },
  {
   "cell_type": "code",
   "execution_count": null,
   "metadata": {},
   "outputs": [],
   "source": []
  }
 ],
 "metadata": {
  "kernelspec": {
   "display_name": "Python 3",
   "language": "python",
   "name": "python3"
  },
  "language_info": {
   "codemirror_mode": {
    "name": "ipython",
    "version": 3
   },
   "file_extension": ".py",
   "mimetype": "text/x-python",
   "name": "python",
   "nbconvert_exporter": "python",
   "pygments_lexer": "ipython3",
   "version": "3.7.1"
  }
 },
 "nbformat": 4,
 "nbformat_minor": 4
}
