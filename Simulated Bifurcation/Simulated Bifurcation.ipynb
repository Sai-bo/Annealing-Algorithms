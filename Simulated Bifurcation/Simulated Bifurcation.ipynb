{
 "cells": [
  {
   "cell_type": "markdown",
   "id": "7c8de2db",
   "metadata": {},
   "source": [
    "### Note: Possibility of improvements over the choices of p(t), a0, c0"
   ]
  },
  {
   "cell_type": "markdown",
   "id": "27ca9e91",
   "metadata": {},
   "source": [
    "This notebook aims to showcase Ising solvers running simulated bifurcation.\n",
    "\n",
    "References:\n",
    "1. https://advances.sciencemag.org/content/5/4/eaav2372\n",
    "2. https://advances.sciencemag.org/content/7/6/eabe7953"
   ]
  },
  {
   "cell_type": "code",
   "execution_count": 1,
   "id": "4934fcef",
   "metadata": {},
   "outputs": [],
   "source": [
    "import numpy as np\n",
    "import numba as nb\n",
    "import time\n",
    "import matplotlib.pyplot as plt\n",
    "\n",
    "np.random.seed(0)\n",
    "flt = np.float64"
   ]
  },
  {
   "cell_type": "code",
   "execution_count": 2,
   "id": "e5955500",
   "metadata": {},
   "outputs": [],
   "source": [
    "def no_local(Q):\n",
    "    \"\"\"\n",
    "    Return a matrix of shape (N+1, M+1) with no local field.\n",
    "    See S1 in supplementary materials for sciadv.abe7953 for more details.\n",
    "    \"\"\"\n",
    "    new_Q = np.zeros((Q.shape[0]+1, Q.shape[1]+1))\n",
    "    new_Q[:-1, :-1] = Q - np.diag(np.diag(Q))\n",
    "    new_Q[:-1, -1] = np.diag(Q)\n",
    "    return new_Q"
   ]
  },
  {
   "cell_type": "code",
   "execution_count": 3,
   "id": "caf0a1ea",
   "metadata": {},
   "outputs": [],
   "source": [
    "#@nb.njit(parallel=False)\n",
    "def one_aSB_run(Q_matrix, PS, dt, Kerr_coef, a0, c0, init_y):\n",
    "    \"\"\"\n",
    "    One (adiabatic) simulated bifurcation run over the full pump schedule.\n",
    "    \n",
    "    Parameters:\n",
    "        Q_matrix (2-D array of float): The matrix representing the coupling field of the problem.\n",
    "        PS (list[float]): The pump strength at each step. Number of iterations is implicitly len(PS).\n",
    "        dt (float): Time step for the discretized time.\n",
    "        Kerr_coef (float): The Kerr coefficient.\n",
    "        a0, c0 (float): Positive constants.\n",
    "        init_y (1-D array of float): Initial y for perturbation.\n",
    "    \n",
    "    Return: final_state (1-D array of float)\n",
    "    \"\"\"\n",
    "    \n",
    "    local_flg = False\n",
    "    if np.diag(Q_matrix).any():\n",
    "        Q = no_local(Q)\n",
    "        local_flg = True\n",
    "    \n",
    "    #np.random.seed(sd)\n",
    "    \n",
    "    N = Q_matrix.shape[0]\n",
    "    x = flt(np.zeros(N))\n",
    "    y = flt(init_y.copy())\n",
    "    \n",
    "    for a in PS:\n",
    "        x += a0 * y * dt\n",
    "        y -= (Kerr_coef * x**3 + (a0 - a) * x - c0 * Q_matrix.dot(x)) * dt\n",
    "        #x_history.append(x.copy()) # for analysis purposes\n",
    "    \n",
    "    if local_flg:\n",
    "        return np.sign(x[:-1]) * np.sign(x[-1])\n",
    "    else:\n",
    "        return np.sign(x)"
   ]
  },
  {
   "cell_type": "code",
   "execution_count": 4,
   "id": "1b22a637",
   "metadata": {},
   "outputs": [],
   "source": [
    "Q = np.array([[0., 1.], [1., 0.]])\n",
    "n = 2000\n",
    "dt = 200/n\n",
    "a0 = 0.5\n",
    "c0 = 0.3\n",
    "PS = [a0/n * i for i in range(n)]\n",
    "\n",
    "init_y = np.random.uniform(flt(-0.1), flt(0.1), Q.shape[0])"
   ]
  },
  {
   "cell_type": "code",
   "execution_count": 5,
   "id": "719e82ec",
   "metadata": {},
   "outputs": [
    {
     "name": "stdout",
     "output_type": "stream",
     "text": [
      "ground state: [-1. -1.]; time: 0.06763648986816406 s\n"
     ]
    }
   ],
   "source": [
    "# Without numba\n",
    "x_history = []\n",
    "start_time = time.time()\n",
    "ans = one_aSB_run(Q, PS, dt, 1., a0, c0, init_y)\n",
    "total_time = time.time() - start_time\n",
    "print(f'ground state: {ans}; time: {total_time} s')"
   ]
  },
  {
   "cell_type": "code",
   "execution_count": 6,
   "id": "b010d240",
   "metadata": {},
   "outputs": [
    {
     "data": {
      "text/plain": [
       "<matplotlib.collections.PathCollection at 0x7efe8412c910>"
      ]
     },
     "execution_count": 6,
     "metadata": {},
     "output_type": "execute_result"
    },
    {
     "data": {
      "image/png": "[encoded data removed]",
      "text/plain": [
       "<Figure size 600x400 with 1 Axes>"
      ]
     },
     "metadata": {
      "needs_background": "light"
     },
     "output_type": "display_data"
    }
   ],
   "source": [
    "x_history = np.asarray(x_history)\n",
    "plt.figure(dpi=100)\n",
    "plt.scatter(x_history[:, 0], x_history[:, 1], s=.1)"
   ]
  },
  {
   "cell_type": "code",
   "execution_count": 7,
   "id": "e9223130",
   "metadata": {},
   "outputs": [],
   "source": [
    "#@nb.njit(parallel=False)\n",
    "def one_bSB_run(Q_matrix, PS, dt, a0, c0, init_y):\n",
    "    \"\"\"\n",
    "    One ballistic simulated bifurcation run over the full pump schedule.\n",
    "    \n",
    "    Parameters:\n",
    "        Q_matrix (2-D array of float): The matrix representing the local and coupling field of the problem.\n",
    "        PS (list[float]): The pump strength at each step. Number of iterations is implicitly len(PS).\n",
    "        dt (float): Time step for the discretized time.\n",
    "        a0, c0 (float): Positive constants.\n",
    "        init_y (1-D array of float): Initial y.\n",
    "    \n",
    "    Return: final_state (1-D array of float)\n",
    "    \"\"\"\n",
    "    \n",
    "    local_flg = False\n",
    "    if np.diag(Q_matrix).any():\n",
    "        Q = no_local(Q)\n",
    "        local_flg = True\n",
    "    \n",
    "    #np.random.seed(sd)\n",
    "    \n",
    "    N = Q_matrix.shape[0]\n",
    "    x = flt(np.zeros(N))\n",
    "    y = flt(init_y.copy())\n",
    "    \n",
    "    for a in PS:\n",
    "        x += a0 * y * dt\n",
    "        y -= ((a0 - a) * x - c0 * Q_matrix.dot(x)) * dt # pump increases from 0 to a0 linearly\n",
    "        for i in range(N): # parallelizable\n",
    "            if np.abs(x[i]) > 1:\n",
    "                x[i] = np.sign(x[i])\n",
    "                y[i] = 0\n",
    "        #x_history.append(x.copy()) # for analysis purposes\n",
    "    \n",
    "    if local_flg:\n",
    "        return np.sign(x[:-1]) * np.sign(x[-1])\n",
    "    else:\n",
    "        return np.sign(x)"
   ]
  },
  {
   "cell_type": "code",
   "execution_count": 8,
   "id": "0cfcbdac",
   "metadata": {},
   "outputs": [
    {
     "name": "stdout",
     "output_type": "stream",
     "text": [
      "ground state: [-1. -1.]; time: 0.033516883850097656 s\n"
     ]
    }
   ],
   "source": [
    "# Without numba\n",
    "x_history = []\n",
    "start_time = time.time()\n",
    "ans = one_bSB_run(Q, PS, dt, a0, c0, init_y)\n",
    "total_time = time.time() - start_time\n",
    "print(f'ground state: {ans}; time: {total_time} s')"
   ]
  },
  {
   "cell_type": "code",
   "execution_count": 9,
   "id": "d86ad534",
   "metadata": {},
   "outputs": [
    {
     "data": {
      "text/plain": [
       "<matplotlib.collections.PathCollection at 0x7efe83819250>"
      ]
     },
     "execution_count": 9,
     "metadata": {},
     "output_type": "execute_result"
    },
    {
     "data": {
      "image/png": "[encoded data removed]",
      "text/plain": [
       "<Figure size 600x400 with 1 Axes>"
      ]
     },
     "metadata": {
      "needs_background": "light"
     },
     "output_type": "display_data"
    }
   ],
   "source": [
    "x_history = np.asarray(x_history)\n",
    "plt.figure(dpi=100)\n",
    "plt.scatter(x_history[:, 0], x_history[:, 1], s=.1)"
   ]
  },
  {
   "cell_type": "code",
   "execution_count": 10,
   "id": "7ca64147",
   "metadata": {},
   "outputs": [],
   "source": [
    "#@nb.njit(parallel=False)\n",
    "def one_dSB_run(Q_matrix, PS, dt, a0, c0, init_y):\n",
    "    \"\"\"\n",
    "    One discrete simulated bifurcation run over the full pump schedule.\n",
    "    \n",
    "    Parameters:\n",
    "        Q_matrix (2-D array of float): The matrix representing the local and coupling field of the problem.\n",
    "        PS (list[float]): The pump strength at each step. Number of iterations is implicitly len(PS).\n",
    "        dt (float): Time step for the discretized time.\n",
    "        a0, c0 (float): Positive constants.\n",
    "        init_y (1-D array of float): Initial y.\n",
    "    \n",
    "    Return: final_state (1-D array of float)\n",
    "    \"\"\"\n",
    "    \n",
    "    local_flg = False\n",
    "    if np.diag(Q_matrix).any():\n",
    "        Q = no_local(Q)\n",
    "        local_flg = True\n",
    "    \n",
    "    #np.random.seed(sd)\n",
    "    \n",
    "    N = Q_matrix.shape[0]\n",
    "    x = flt(np.zeros(N))\n",
    "    y = flt(init_y.copy())\n",
    "    \n",
    "    for a in PS:\n",
    "        x += a0 * y * dt\n",
    "        y -= ((a0 - a) * x - c0 * Q_matrix.dot(np.sign(x))) * dt\n",
    "        for i in range(N): # parallelizable\n",
    "            if np.abs(x[i]) > 1:\n",
    "                x[i] = np.sign(x[i])\n",
    "                y[i] = 0\n",
    "        #x_history.append(x.copy()) # for analysis purposes\n",
    "    \n",
    "    if local_flg:\n",
    "        return np.sign(x[:-1]) * np.sign(x[-1])\n",
    "    else:\n",
    "        return np.sign(x)"
   ]
  },
  {
   "cell_type": "code",
   "execution_count": 11,
   "id": "47c76b6a",
   "metadata": {},
   "outputs": [
    {
     "name": "stdout",
     "output_type": "stream",
     "text": [
      "ground state: [1. 1.]; time: 0.03526592254638672 s\n"
     ]
    }
   ],
   "source": [
    "# Without numba\n",
    "x_history = []\n",
    "start_time = time.time()\n",
    "ans = one_dSB_run(Q, PS, dt, a0, c0, init_y)\n",
    "total_time = time.time() - start_time\n",
    "print(f'ground state: {ans}; time: {total_time} s')"
   ]
  },
  {
   "cell_type": "code",
   "execution_count": 12,
   "id": "1445f6d0",
   "metadata": {},
   "outputs": [
    {
     "data": {
      "text/plain": [
       "<matplotlib.collections.PathCollection at 0x7efe838479d0>"
      ]
     },
     "execution_count": 12,
     "metadata": {},
     "output_type": "execute_result"
    },
    {
     "data": {
      "image/png": "[encoded data removed]",
      "text/plain": [
       "<Figure size 600x400 with 1 Axes>"
      ]
     },
     "metadata": {
      "needs_background": "light"
     },
     "output_type": "display_data"
    }
   ],
   "source": [
    "x_history = np.asarray(x_history)\n",
    "plt.figure(dpi=100)\n",
    "plt.scatter(x_history[:, 0], x_history[:, 1], s=.1)"
   ]
  },
  {
   "cell_type": "code",
   "execution_count": null,
   "id": "5e044b7a",
   "metadata": {},
   "outputs": [],
   "source": []
  }
 ],
 "metadata": {
  "kernelspec": {
   "display_name": "Python 3",
   "language": "python",
   "name": "python3"
  },
  "language_info": {
   "codemirror_mode": {
    "name": "ipython",
    "version": 3
   },
   "file_extension": ".py",
   "mimetype": "text/x-python",
   "name": "python",
   "nbconvert_exporter": "python",
   "pygments_lexer": "ipython3",
   "version": "3.8.5"
  }
 },
 "nbformat": 4,
 "nbformat_minor": 5
}
