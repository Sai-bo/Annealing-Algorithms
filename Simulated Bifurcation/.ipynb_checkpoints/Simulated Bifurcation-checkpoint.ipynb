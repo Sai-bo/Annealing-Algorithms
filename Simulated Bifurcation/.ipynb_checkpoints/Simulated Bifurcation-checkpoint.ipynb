{
 "cells": [
  {
   "cell_type": "markdown",
   "id": "instrumental-richmond",
   "metadata": {},
   "source": [
    "### Note: Choice of p(t), a0, c0 can be improved"
   ]
  },
  {
   "cell_type": "markdown",
   "id": "rotary-hobby",
   "metadata": {},
   "source": [
    "This notebook aims to recreate an Ising solver running simulated bifurcation."
   ]
  },
  {
   "cell_type": "code",
   "execution_count": 1,
   "id": "bizarre-engagement",
   "metadata": {},
   "outputs": [],
   "source": [
    "import numpy as np\n",
    "import numba as nb\n",
    "import time\n",
    "import matplotlib.pyplot as plt"
   ]
  },
  {
   "cell_type": "code",
   "execution_count": 8,
   "id": "parliamentary-paraguay",
   "metadata": {},
   "outputs": [],
   "source": [
    "@nb.njit(parallel=False)\n",
    "def one_SB_run(Q_matrix, pump_schedule, step_size, Kerr_coef, detuning, xi):\n",
    "    \"\"\"\n",
    "    One simulated bifurcation run over the full pump schedule.\n",
    "    \n",
    "    Parameters:\n",
    "        Q_matrix (2-D array of float64): The matrix representing the local and coupling field of the problem.\n",
    "        pump_schedule (function): The pump amplitude schedule for each time step.\n",
    "                                  The number of iterations is implicitly the length of pump_schedule.\n",
    "        step_size (float64): Time step for the discretized time.\n",
    "        Kerr_coef (float64): The Kerr coefficient.\n",
    "        detuning (float64): The detuning frequency.\n",
    "        xi (float64): A positive constant with the dimension of frequency.\n",
    "    \n",
    "    Return: final_state (1-D array of bool)\n",
    "    \"\"\"\n",
    "    \n",
    "    #if np.diagonal(Q_matrix).any():\n",
    "    #    raise ValueError(\"Diagonal elements of Q should be all zero.\")\n",
    "    \n",
    "    np.random.seed(0)\n",
    "    \n",
    "    N = Q_matrix.shape[0]\n",
    "    x = np.zeros(N)\n",
    "    y = np.random.uniform(-0.1, 0.1, N)\n",
    "    \n",
    "    for k in range(len(pump_schedule)):\n",
    "        x += detuning * y * step_size\n",
    "        y -= (Kerr_coef * x**3 + (detuning - pump_schedule[k]) * x - xi * Q_matrix.dot(x)) * step_size\n",
    "        #x_history[k] = x # for analysis purposes\n",
    "    \n",
    "    return np.sign(x)"
   ]
  },
  {
   "cell_type": "code",
   "execution_count": 3,
   "id": "european-graham",
   "metadata": {},
   "outputs": [],
   "source": [
    "Q = np.array([[0., 1.], [1., 0.]])\n",
    "PS = [0.0001 * i for i in range(20000)]\n",
    "x_history = np.zeros((20000, 2))"
   ]
  },
  {
   "cell_type": "code",
   "execution_count": 4,
   "id": "worldwide-uruguay",
   "metadata": {},
   "outputs": [
    {
     "name": "stdout",
     "output_type": "stream",
     "text": [
      "ground state: [1. 1.]; time: 0.2831902503967285 s\n"
     ]
    }
   ],
   "source": [
    "# Without numba\n",
    "start_time = time.time()\n",
    "ans = one_SB_run(Q, PS, 0.01, 1., 0.5, 0.1)\n",
    "total_time = time.time() - start_time\n",
    "print(f'ground state: {ans}; time: {total_time} s')"
   ]
  },
  {
   "cell_type": "code",
   "execution_count": 5,
   "id": "fundamental-portable",
   "metadata": {},
   "outputs": [
    {
     "data": {
      "text/plain": [
       "<matplotlib.collections.PathCollection at 0x10f563a20>"
      ]
     },
     "execution_count": 5,
     "metadata": {},
     "output_type": "execute_result"
    },
    {
     "data": {
      "image/png": "[encoded data removed]",
      "text/plain": [
       "<Figure size 600x400 with 1 Axes>"
      ]
     },
     "metadata": {
      "needs_background": "light"
     },
     "output_type": "display_data"
    }
   ],
   "source": [
    "plt.figure(dpi=100)\n",
    "plt.scatter(x_history[:, 0], x_history[:, 1], s=.1)"
   ]
  },
  {
   "cell_type": "code",
   "execution_count": 9,
   "id": "unnecessary-skating",
   "metadata": {},
   "outputs": [
    {
     "name": "stderr",
     "output_type": "stream",
     "text": [
      "C:\\ProgramData\\Anaconda3\\lib\\site-packages\\numba\\core\\ir_utils.py:2031: NumbaPendingDeprecationWarning: \u001b[1m\n",
      "Encountered the use of a type that is scheduled for deprecation: type 'reflected list' found for argument 'pump_schedule' of function 'one_SB_run'.\n",
      "\n",
      "For more information visit https://numba.pydata.org/numba-doc/latest/reference/deprecation.html#deprecation-of-reflection-for-list-and-set-types\n",
      "\u001b[1m\n",
      "File \"<ipython-input-8-4fb0986030b1>\", line 2:\u001b[0m\n",
      "\u001b[1m@nb.njit(parallel=False)\n",
      "\u001b[1mdef one_SB_run(Q_matrix, pump_schedule, time_step, Kerr_coef, detuning, xi):\n",
      "\u001b[0m\u001b[1m^\u001b[0m\u001b[0m\n",
      "\u001b[0m\n",
      "  warnings.warn(NumbaPendingDeprecationWarning(msg, loc=loc))\n"
     ]
    },
    {
     "name": "stdout",
     "output_type": "stream",
     "text": [
      "ground state: [1. 1.]; time: 0.9333233833312988 s\n"
     ]
    }
   ],
   "source": [
    "# With numba, not parallelized, first pass\n",
    "start_time = time.time()\n",
    "ans = one_SB_run(Q, PS, 0.01, 1., 0.5, 0.1)\n",
    "total_time = time.time() - start_time\n",
    "print(f'ground state: {ans}; time: {total_time} s')"
   ]
  },
  {
   "cell_type": "code",
   "execution_count": 10,
   "id": "exempt-filling",
   "metadata": {},
   "outputs": [
    {
     "name": "stdout",
     "output_type": "stream",
     "text": [
      "ground state: [1. 1.]; time: 0.05602717399597168 s\n"
     ]
    }
   ],
   "source": [
    "# With numba, not parallelized, second pass\n",
    "start_time = time.time()\n",
    "ans = one_SB_run(Q, PS, 0.01, 1., 0.5, 0.1)\n",
    "total_time = time.time() - start_time\n",
    "print(f'ground state: {ans}; time: {total_time} s')"
   ]
  },
  {
   "cell_type": "code",
   "execution_count": 15,
   "id": "modular-hampshire",
   "metadata": {},
   "outputs": [],
   "source": [
    "#@nb.njit(parallel=False)\n",
    "def one_bSB_run(Q_matrix, pump_schedule, step_size, a0, c0):\n",
    "    \"\"\"\n",
    "    One ballistic simulated bifurcation run over the full pump schedule.\n",
    "    \n",
    "    Parameters:\n",
    "        Q_matrix (2-D array of float64): The matrix representing the local and coupling field of the problem.\n",
    "        pump_schedule (function): The pump amplitude schedule for each time step.\n",
    "                                  The number of iterations is implicitly the length of pump_schedule.\n",
    "        step_size (float64): Time step for the discretized time.\n",
    "        a0, c0 (float64): Positive constants.\n",
    "    \n",
    "    Return: final_state (1-D array of bool)\n",
    "    \"\"\"\n",
    "    \n",
    "    #if np.diagonal(Q_matrix).any():\n",
    "    #    raise ValueError(\"Diagonal elements of Q should be all zero.\")\n",
    "    \n",
    "    np.random.seed(0)\n",
    "    \n",
    "    N = Q_matrix.shape[0]\n",
    "    x = np.zeros(N)\n",
    "    y = np.random.uniform(-0.1, 0.1, N)\n",
    "    \n",
    "    for k in range(len(pump_schedule)):\n",
    "        y -= ((a0 - pump_schedule[k]) * x - c0 * Q_matrix.dot(x)) * step_size\n",
    "        x += a0 * y * step_size\n",
    "        for i in nb.prange(N):\n",
    "            if np.abs(x[i]) > 1:\n",
    "                x[i] = np.sign(x[i])\n",
    "                y[i] = 0\n",
    "        x_history[k] = x # for analysis purposes\n",
    "    \n",
    "    return np.sign(x)"
   ]
  },
  {
   "cell_type": "code",
   "execution_count": 16,
   "id": "invisible-turkey",
   "metadata": {},
   "outputs": [],
   "source": [
    "Q = np.array([[0., 1.], [1., 0.]])\n",
    "PS = [0.0001 * i for i in range(20000)]\n",
    "x_history = np.zeros((20000, 2))"
   ]
  },
  {
   "cell_type": "code",
   "execution_count": 17,
   "id": "dominant-increase",
   "metadata": {},
   "outputs": [
    {
     "name": "stdout",
     "output_type": "stream",
     "text": [
      "ground state: [1. 1.]; time: 0.369373083114624 s\n"
     ]
    }
   ],
   "source": [
    "# Without numba\n",
    "start_time = time.time()\n",
    "ans = one_bSB_run(Q, PS, 0.01, 0.5, 0.1)\n",
    "total_time = time.time() - start_time\n",
    "print(f'ground state: {ans}; time: {total_time} s')"
   ]
  },
  {
   "cell_type": "code",
   "execution_count": 18,
   "id": "encouraging-philadelphia",
   "metadata": {},
   "outputs": [
    {
     "data": {
      "text/plain": [
       "<matplotlib.collections.PathCollection at 0x104cb3978>"
      ]
     },
     "execution_count": 18,
     "metadata": {},
     "output_type": "execute_result"
    },
    {
     "data": {
      "image/png": "[encoded data removed]",
      "text/plain": [
       "<Figure size 600x400 with 1 Axes>"
      ]
     },
     "metadata": {
      "needs_background": "light"
     },
     "output_type": "display_data"
    }
   ],
   "source": [
    "plt.figure(dpi=100)\n",
    "plt.scatter(x_history[:, 0], x_history[:, 1], s=.1)"
   ]
  },
  {
   "cell_type": "code",
   "execution_count": 19,
   "id": "twelve-delight",
   "metadata": {},
   "outputs": [],
   "source": [
    "#@nb.njit(parallel=False)\n",
    "def one_dSB_run(Q_matrix, pump_schedule, step_size, a0, c0):\n",
    "    \"\"\"\n",
    "    One discrete simulated bifurcation run over the full pump schedule.\n",
    "    \n",
    "    Parameters:\n",
    "        Q_matrix (2-D array of float64): The matrix representing the local and coupling field of the problem.\n",
    "        pump_schedule (function): The pump amplitude schedule for each time step.\n",
    "                                  The number of iterations is implicitly the length of pump_schedule.\n",
    "        step_size (float64): Time step for the discretized time.\n",
    "        a0, c0 (float64): Positive constants.\n",
    "    \n",
    "    Return: final_state (1-D array of bool)\n",
    "    \"\"\"\n",
    "    \n",
    "    #if np.diagonal(Q_matrix).any():\n",
    "    #    raise ValueError(\"Diagonal elements of Q should be all zero.\")\n",
    "    \n",
    "    np.random.seed(0)\n",
    "    \n",
    "    N = Q_matrix.shape[0]\n",
    "    x = np.zeros(N)\n",
    "    y = np.random.uniform(-0.1, 0.1, N)\n",
    "    \n",
    "    for k in range(len(pump_schedule)):\n",
    "        y -= ((a0 - pump_schedule[k]) * x - c0 * Q_matrix.dot(np.sign(x))) * step_size\n",
    "        x += a0 * y * step_size\n",
    "        for i in nb.prange(N):\n",
    "            if np.abs(x[i]) > 1:\n",
    "                x[i] = np.sign(x[i])\n",
    "                y[i] = 0\n",
    "        x_history[k] = x # for analysis purposes\n",
    "    \n",
    "    return np.sign(x)"
   ]
  },
  {
   "cell_type": "code",
   "execution_count": 23,
   "id": "powerful-tackle",
   "metadata": {},
   "outputs": [],
   "source": [
    "Q = np.array([[0., 1.], [1., 0.]])\n",
    "PS = [0.0001 * i for i in range(20000)]\n",
    "x_history = np.zeros((20000, 2))"
   ]
  },
  {
   "cell_type": "code",
   "execution_count": 24,
   "id": "future-billion",
   "metadata": {},
   "outputs": [
    {
     "name": "stdout",
     "output_type": "stream",
     "text": [
      "ground state: [1. 1.]; time: 0.4161052703857422 s\n"
     ]
    }
   ],
   "source": [
    "# Without numba\n",
    "start_time = time.time()\n",
    "ans = one_dSB_run(Q, PS, 0.01, 0.5, 0.1)\n",
    "total_time = time.time() - start_time\n",
    "print(f'ground state: {ans}; time: {total_time} s')"
   ]
  },
  {
   "cell_type": "code",
   "execution_count": 25,
   "id": "superior-lender",
   "metadata": {},
   "outputs": [
    {
     "data": {
      "text/plain": [
       "<matplotlib.collections.PathCollection at 0x104d52fd0>"
      ]
     },
     "execution_count": 25,
     "metadata": {},
     "output_type": "execute_result"
    },
    {
     "data": {
      "image/png": "[encoded data removed]",
      "text/plain": [
       "<Figure size 600x400 with 1 Axes>"
      ]
     },
     "metadata": {
      "needs_background": "light"
     },
     "output_type": "display_data"
    }
   ],
   "source": [
    "plt.figure(dpi=100)\n",
    "plt.scatter(x_history[:, 0], x_history[:, 1], s=.1)"
   ]
  },
  {
   "cell_type": "code",
   "execution_count": null,
   "id": "forward-tunisia",
   "metadata": {},
   "outputs": [],
   "source": []
  }
 ],
 "metadata": {
  "kernelspec": {
   "display_name": "Python 3",
   "language": "python",
   "name": "python3"
  },
  "language_info": {
   "codemirror_mode": {
    "name": "ipython",
    "version": 3
   },
   "file_extension": ".py",
   "mimetype": "text/x-python",
   "name": "python",
   "nbconvert_exporter": "python",
   "pygments_lexer": "ipython3",
   "version": "3.7.1"
  }
 },
 "nbformat": 4,
 "nbformat_minor": 5
}
