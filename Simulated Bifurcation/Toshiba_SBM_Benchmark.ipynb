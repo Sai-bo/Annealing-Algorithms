{
 "cells": [
  {
   "cell_type": "code",
   "execution_count": 1,
   "metadata": {},
   "outputs": [],
   "source": [
    "import numpy as np\n",
    "import matplotlib.pyplot as plt\n",
    "from tqdm import tqdm\n",
    "from subprocess import check_output"
   ]
  },
  {
   "cell_type": "code",
   "execution_count": 3,
   "metadata": {},
   "outputs": [],
   "source": [
    "ip = \"52.87.240.206\" # paste the public IPv4 address here\n",
    "steps = 0 # 0 means auto\n",
    "loops = 3 # each loop contains 320 runs"
   ]
  },
  {
   "cell_type": "code",
   "execution_count": 16,
   "metadata": {},
   "outputs": [],
   "source": [
    "# best known solution for the g05 dataset\n",
    "opt_cut = {60: [536, 532, 529, 538, 527, 533, 531, 535, 530, 533], \\\n",
    "           80: [929, 941, 934, 923, 932, 926, 929, 929, 925, 923], \\\n",
    "           100: [1430, 1425, 1432, 1424, 1440, 1436, 1434, 1431, 1432, 1430]}"
   ]
  },
  {
   "cell_type": "code",
   "execution_count": 4,
   "metadata": {},
   "outputs": [
    {
     "name": "stdout",
     "output_type": "stream",
     "text": [
      "/home/r09222027/GitHub/Annealing-Algorithms/Simulated Bifurcation/mac_all/rudy\n"
     ]
    }
   ],
   "source": [
    "cd /home/r09222027/GitHub/Annealing-Algorithms/Simulated Bifurcation/mac_all/rudy/"
   ]
  },
  {
   "cell_type": "code",
   "execution_count": 25,
   "metadata": {},
   "outputs": [],
   "source": [
    "results = dict()\n",
    "for N in [60, 80, 100]:\n",
    "    for ins in range(10):\n",
    "        file = f\"g05_{N}.{ins}\"\n",
    "        output = check_output(f'curl -i -H \"Content-Type:application/octet-stream\" -X POST \\\n",
    "                \"http://{ip}:8000/solver/maxcut?steps={steps}&loops={loops}&stats=full\" --data-binary \"@{file}\"', shell=True)\n",
    "        s = str(output)\n",
    "        histo_start = s.find('[[')\n",
    "        histo_end = s.find(']]', histo_start)\n",
    "        results[(N, ins)] = eval(s[histo_start:histo_end+2])"
   ]
  },
  {
   "cell_type": "code",
   "execution_count": 33,
   "metadata": {},
   "outputs": [
    {
     "name": "stdout",
     "output_type": "stream",
     "text": [
      "Target: 100% of optimal cut\n",
      "-----------------------------------\n",
      "N=60: 1167/9600, 12.2% target rate\n",
      "N=80: 642/9600, 6.7% target rate\n",
      "N=100: 123/9600, 1.3% target rate\n"
     ]
    }
   ],
   "source": [
    "target = 1\n",
    "print(f\"Target: {100 * target}% of optimal cut\")\n",
    "print(\"-----------------------------------\")\n",
    "for N in [60, 80, 100]:\n",
    "    total_occur = 0\n",
    "    for ins in range(10):\n",
    "        opt_cut_val = opt_cut[N][ins]\n",
    "        for histo in results[(N, ins)][::-1]:\n",
    "            cut, occur = histo[0], histo[1]\n",
    "            if cut >= opt_cut_val * target:\n",
    "                total_occur += occur\n",
    "    print(f\"N={N}: {total_occur}/{loops * 320 * 10}, {100 * total_occur/(loops * 320 * 10):.1f}% target rate\")"
   ]
  },
  {
   "cell_type": "code",
   "execution_count": 34,
   "metadata": {},
   "outputs": [
    {
     "name": "stdout",
     "output_type": "stream",
     "text": [
      "Target: 99.5% of optimal cut\n",
      "-----------------------------------\n",
      "N=60: 3011/9600, 31.4% target rate\n",
      "N=80: 1932/9600, 20.1% target rate\n",
      "N=100: 1212/9600, 12.6% target rate\n"
     ]
    }
   ],
   "source": [
    "target = 0.995\n",
    "print(f\"Target: {100 * target}% of optimal cut\")\n",
    "print(\"-----------------------------------\")\n",
    "for N in [60, 80, 100]:\n",
    "    total_occur = 0\n",
    "    for ins in range(10):\n",
    "        opt_cut_val = opt_cut[N][ins]\n",
    "        for histo in results[(N, ins)][::-1]:\n",
    "            cut, occur = histo[0], histo[1]\n",
    "            if cut >= opt_cut_val * target:\n",
    "                total_occur += occur\n",
    "    print(f\"N={N}: {total_occur}/{loops * 320 * 10}, {100 * total_occur/(loops * 320 * 10):.1f}% target rate\")"
   ]
  },
  {
   "cell_type": "code",
   "execution_count": 35,
   "metadata": {},
   "outputs": [
    {
     "name": "stdout",
     "output_type": "stream",
     "text": [
      "Target: 99.0% of optimal cut\n",
      "-----------------------------------\n",
      "N=60: 4963/9600, 51.7% target rate\n",
      "N=80: 3569/9600, 37.2% target rate\n",
      "N=100: 2632/9600, 27.4% target rate\n"
     ]
    }
   ],
   "source": [
    "target = 0.99\n",
    "print(f\"Target: {100 * target}% of optimal cut\")\n",
    "print(\"-----------------------------------\")\n",
    "for N in [60, 80, 100]:\n",
    "    total_occur = 0\n",
    "    for ins in range(10):\n",
    "        opt_cut_val = opt_cut[N][ins]\n",
    "        for histo in results[(N, ins)][::-1]:\n",
    "            cut, occur = histo[0], histo[1]\n",
    "            if cut >= opt_cut_val * target:\n",
    "                total_occur += occur\n",
    "    print(f\"N={N}: {total_occur}/{loops * 320 * 10}, {100 * total_occur/(loops * 320 * 10):.1f}% target rate\")"
   ]
  },
  {
   "cell_type": "code",
   "execution_count": null,
   "metadata": {},
   "outputs": [],
   "source": []
  }
 ],
 "metadata": {
  "kernelspec": {
   "display_name": "Python 3",
   "language": "python",
   "name": "python3"
  },
  "language_info": {
   "codemirror_mode": {
    "name": "ipython",
    "version": 3
   },
   "file_extension": ".py",
   "mimetype": "text/x-python",
   "name": "python",
   "nbconvert_exporter": "python",
   "pygments_lexer": "ipython3",
   "version": "3.7.7"
  },
  "orig_nbformat": 4
 },
 "nbformat": 4,
 "nbformat_minor": 2
}
