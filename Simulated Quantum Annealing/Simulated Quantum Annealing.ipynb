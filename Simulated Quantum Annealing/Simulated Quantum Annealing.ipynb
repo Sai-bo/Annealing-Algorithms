{
 "cells": [
  {
   "cell_type": "markdown",
   "metadata": {},
   "source": [
    "This notebook aims to recreate an annealer machine running simulated quantum annealing.\n",
    "\n",
    "See https://doi.org/10.1109/ICRC.2017.8123652"
   ]
  },
  {
   "cell_type": "code",
   "execution_count": 1,
   "metadata": {},
   "outputs": [],
   "source": [
    "import numpy as np\n",
    "import scipy as sp\n",
    "import numba as nb\n",
    "import time\n",
    "from scipy.sparse import bsr_matrix"
   ]
  },
  {
   "cell_type": "code",
   "execution_count": 14,
   "metadata": {},
   "outputs": [],
   "source": [
    "def one_SQA_run(J, trans_fld_sched, M, T, ansatz_state=None):\n",
    "    \"\"\"\n",
    "    One simulated quantum annealing run over the full transverse field strength schedule.\n",
    "    The goal is to find a state such that sum(J[i, i]*state[i]) + sum(J[i, j]*state[i]*state[j]) is minimized.\n",
    "    \n",
    "    Parameters:\n",
    "        J (2-D array of float): The matrix representing the local and coupling field of the problem.\n",
    "                                Local fields should be on the diagonal of the input matrix.\n",
    "        trans_fld_sched (list[float]): The transeverse field strength schedule for QA.\n",
    "                                       The number of iterations is implicitly the length of temp_schedule.\n",
    "        M (int): The number of Trotter replicas. Larger M leads to higher probability of finding ground state.\n",
    "        T (float): Temperature parameter. Smaller T leads to higher probability of finding ground state.\n",
    "        ansatz_state (1-D array of bool, default=None): The boolean vector representing the initial state.\n",
    "                                                        If None, a random state is chosen.\n",
    "    \n",
    "    Return: final_state (1-D array of bool)\n",
    "    \"\"\"\n",
    "    \n",
    "    N = J.shape[0]\n",
    "    J = 0.5*(J + J.T) # making sure J is symmetric\n",
    "    J = np.kron(np.eye(M), J/M) # block diagonal of J, repeated M times\n",
    "    Jp_terms = np.eye(N*M, k=N) + np.eye(N*M, k=N*(1-M))\n",
    "    Jp_terms = 0.5*(Jp_terms + Jp_terms.T)\n",
    "    \n",
    "    Q = 4*J - 6*np.diag(np.diag(J)) + 4*np.diag(np.sum(J, axis=0))\n",
    "    Qp_terms = 4*Jp_terms + 4*np.eye(N*M)\n",
    "    \n",
    "    if ansatz_state is None:\n",
    "        state = (np.random.binomial(1, 0.5, N*M) == 1)\n",
    "    else:\n",
    "        state = np.tile(ansatz_state, M)\n",
    "    \n",
    "    \n",
    "    for Gamma in trans_fld_sched:\n",
    "        Jp_coef = -0.5 * T * np.log(np.tanh(Gamma / M / T))\n",
    "        \n",
    "        # Local move\n",
    "        flip = np.random.randint(N*M)\n",
    "        delta_E = 2 * (1 - 2*state[flip]) * np.sum((Q + Jp_coef * Qp_terms)[flip][state]) + Q[flip, flip]\n",
    "        if np.random.binomial(1, np.minimum(np.exp(-delta_E/T), 1.)):\n",
    "            state[flip] ^= True\n",
    "        \n",
    "        # Global move\n",
    "        flip = np.random.randint(N)\n",
    "        delta_E = 0\n",
    "        for i in range(M):\n",
    "            delta_E += 2 * (1 - 2*state[flip + i*N]) * np.sum(Q[flip + i*N][state]) + Q[flip + i*N, flip + i*N]\n",
    "        if np.random.binomial(1, np.minimum(np.exp(-delta_E/T), 1.)):\n",
    "            for i in range(M):\n",
    "                state[flip + i*N] ^= True\n",
    "    \n",
    "    return state"
   ]
  },
  {
   "cell_type": "code",
   "execution_count": 9,
   "metadata": {},
   "outputs": [],
   "source": [
    "Q = np.reshape(np.array(range(16)), (4,  4))"
   ]
  },
  {
   "cell_type": "code",
   "execution_count": 10,
   "metadata": {},
   "outputs": [
    {
     "data": {
      "text/plain": [
       "array([[ 0,  1,  2,  3],\n",
       "       [ 4,  5,  6,  7],\n",
       "       [ 8,  9, 10, 11],\n",
       "       [12, 13, 14, 15]])"
      ]
     },
     "execution_count": 10,
     "metadata": {},
     "output_type": "execute_result"
    }
   ],
   "source": [
    "Q"
   ]
  },
  {
   "cell_type": "code",
   "execution_count": 11,
   "metadata": {},
   "outputs": [],
   "source": [
    "flip = np.array([0, 2])"
   ]
  },
  {
   "cell_type": "code",
   "execution_count": 12,
   "metadata": {},
   "outputs": [],
   "source": [
    "state = np.array([0, 1, 0, 1])"
   ]
  },
  {
   "cell_type": "code",
   "execution_count": 13,
   "metadata": {},
   "outputs": [
    {
     "data": {
      "text/plain": [
       "array([0, 0])"
      ]
     },
     "execution_count": 13,
     "metadata": {},
     "output_type": "execute_result"
    }
   ],
   "source": [
    "state[flip]"
   ]
  },
  {
   "cell_type": "code",
   "execution_count": null,
   "metadata": {},
   "outputs": [],
   "source": []
  },
  {
   "cell_type": "markdown",
   "metadata": {},
   "source": [
    "According to https://doi.org/10.1103/PhysRevB.66.094203, M\\*T should be on the order of coupling strengths |J|, but not smaller."
   ]
  },
  {
   "cell_type": "code",
   "execution_count": 15,
   "metadata": {},
   "outputs": [],
   "source": [
    "J = np.array([[-1., 0., 0., 0.], [0., 1., 0., 0.], [0., 0., 1., 0.], [0., 0., 0., 1.]])\n",
    "ansatz = np.zeros(J.shape[0], dtype=np.bool_)\n",
    "\n",
    "steps_per_spin = 10**3\n",
    "M = 40\n",
    "T = 0.05\n",
    "\n",
    "steps = steps_per_spin * M * J.shape[0]\n",
    "Gamma0 = 3\n",
    "schedule = np.linspace(Gamma0, 10**(-8), num=steps)"
   ]
  },
  {
   "cell_type": "code",
   "execution_count": 16,
   "metadata": {},
   "outputs": [
    {
     "name": "stdout",
     "output_type": "stream",
     "text": [
      "ground state: [False False False False  True False  True False False False False False\n",
      "  True False False False False False False False  True False False False\n",
      "  True  True False False  True False False  True  True False False False\n",
      " False  True  True False False False False  True False False False False\n",
      "  True False False False False False False False False False False False\n",
      " False False  True False  True False False False  True False False False\n",
      "  True False False  True False False False False  True False  True  True\n",
      "  True False False False  True False False False False False False False\n",
      " False False False  True False False False False  True False False False\n",
      " False False False False False  True False False False False False False\n",
      "  True False False False False False False False  True False  True False\n",
      " False False False False  True  True False False  True False False False\n",
      "  True  True  True  True  True False False False  True False False  True\n",
      " False False False False]; time: 261.820839881897 s\n"
     ]
    }
   ],
   "source": [
    "np.random.seed(0)\n",
    "start_time = time.time()\n",
    "ans = one_SQA_run(J, schedule, M, T)\n",
    "total_time = time.time() - start_time\n",
    "print(f'ground state: {ans}; time: {total_time} s')"
   ]
  },
  {
   "cell_type": "code",
   "execution_count": 17,
   "metadata": {},
   "outputs": [
    {
     "name": "stdout",
     "output_type": "stream",
     "text": [
      "Percentage of +1 for spin 1: 52.5%\n",
      "Percentage of +1 for spin 2: 12.5%\n",
      "Percentage of +1 for spin 3: 15.0%\n",
      "Percentage of +1 for spin 4: 17.5%\n"
     ]
    }
   ],
   "source": [
    "for i in range(J.shape[0]):\n",
    "    print(f\"Percentage of +1 for spin {i+1}: {np.sum(ans[i::J.shape[0]])/M:.1%}\")"
   ]
  },
  {
   "cell_type": "code",
   "execution_count": 22,
   "metadata": {},
   "outputs": [
    {
     "data": {
      "text/plain": [
       "array([ True, False, False, False])"
      ]
     },
     "execution_count": 22,
     "metadata": {},
     "output_type": "execute_result"
    }
   ],
   "source": [
    "np.sum(np.reshape(ans, (M, J.shape[0])), axis=0) >= 0.5*M"
   ]
  },
  {
   "cell_type": "code",
   "execution_count": null,
   "metadata": {},
   "outputs": [],
   "source": []
  }
 ],
 "metadata": {
  "kernelspec": {
   "display_name": "Python [conda env:fda]",
   "language": "python",
   "name": "conda-env-fda-py"
  },
  "language_info": {
   "codemirror_mode": {
    "name": "ipython",
    "version": 3
   },
   "file_extension": ".py",
   "mimetype": "text/x-python",
   "name": "python",
   "nbconvert_exporter": "python",
   "pygments_lexer": "ipython3",
   "version": "3.7.10"
  }
 },
 "nbformat": 4,
 "nbformat_minor": 4
}
