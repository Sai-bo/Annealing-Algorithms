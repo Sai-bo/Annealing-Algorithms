{
 "cells": [
  {
   "cell_type": "markdown",
   "metadata": {},
   "source": [
    "This notebook aims to recreate an annealer machine running parallel tempering (replica exchange MCMC)."
   ]
  },
  {
   "cell_type": "code",
   "execution_count": 8,
   "metadata": {},
   "outputs": [],
   "source": [
    "import numpy as np\n",
    "import numba as nb\n",
    "import time"
   ]
  },
  {
   "cell_type": "code",
   "execution_count": 9,
   "metadata": {},
   "outputs": [],
   "source": [
    "def default_temp_schedule(num_iter, temp_start, decay_rate, mode='EXPONENTIAL'):\n",
    "    \"\"\"\n",
    "    Generates a list of temperatures for annealing algorithms.\n",
    "    \n",
    "    Parameters:\n",
    "        num_iter (int): Length of the list.\n",
    "        temp_start (number): Value of the first element in the returned list.\n",
    "        decay_rate (number): Multiplier for changing the temperature during annealing.\n",
    "        mode (string, default='EXPONENTIAL'):\n",
    "            Three modes are possible. Note the accepted ranges for decay_rate are different.\n",
    "            'EXPONENTIAL':  T[i+1] = T[i] * (1 - decay_rate)           # 0 <= decay_rate < 1\n",
    "            'INVERSE':      T[i+1] = T[i] * (1 - decay_rate * T[i])    # 0 <= decay_rate < 1/temp_start\n",
    "            'INVERSE_ROOT': T[i+1] = T[i] * (1 - decay_rate * T[i]**2) # 0 <= decay_rate < 1/temp_start**2\n",
    "    \n",
    "    Return: temp_schedule (list[number])\n",
    "    \"\"\"\n",
    "    \n",
    "    if mode == 'EXPONENTIAL':\n",
    "        if 0 <= decay_rate < 1:\n",
    "            TS = [temp_start]\n",
    "            for _ in range(num_iter - 1):\n",
    "                TS.append(TS[-1] * (1 - decay_rate))\n",
    "            return TS\n",
    "        else:\n",
    "            raise ValueError(\"decay_rate out of accepted range\")\n",
    "    elif mode == 'INVERSE':\n",
    "        if 0 <= decay_rate < 1/temp_start:\n",
    "            TS = [temp_start]\n",
    "            for _ in range(num_iter - 1):\n",
    "                TS.append(TS[-1] * (1 - decay_rate * TS[-1]))\n",
    "            return TS\n",
    "        else:\n",
    "            raise ValueError(\"decay_rate out of accepted range\")\n",
    "    elif mode == 'INVERSE_ROOT':\n",
    "        if 0 <= decay_rate < 1/temp_start**2:\n",
    "            TS = [temp_start]\n",
    "            for _ in range(num_iter - 1):\n",
    "                TS.append(TS[-1] * (1 - decay_rate * TS[-1]**2))\n",
    "            return TS\n",
    "        else:\n",
    "            raise ValueError(\"decay_rate out of accepted range\")\n",
    "    else:\n",
    "        raise ValueError(\"mode not supported\")"
   ]
  },
  {
   "cell_type": "code",
   "execution_count": 14,
   "metadata": {},
   "outputs": [],
   "source": [
    "#@nb.njit(parallel=False)\n",
    "def one_PT_run(Q, num_iter, re_intv, temp_seq, ansatz_state=None):\n",
    "    \"\"\"\n",
    "    One parallel tempering run over the specified number of steps.\n",
    "    \n",
    "    Parameters:\n",
    "        Q (2-D array of float64): The matrix representing the local and coupling field of the problem.\n",
    "        num_iter (int): The number of iteration performed in PT.\n",
    "        re_intv (int): The number of local sampling iterations between replica exchanges.\n",
    "                       If one replica exchange is attempted at iteration k, the next will be at iteration k + re_int.\n",
    "        temp_seq (list[float64]): The annealing temperature sequence. Each temperature corresponds to a replica.\n",
    "        ansatz_state (1-D array of bool, default=None): The boolean vector representing the initial state.\n",
    "                                                        If None, a random state is chosen.\n",
    "    \n",
    "    Return: final state of the replica with lowest energy (1-D array of bool)\n",
    "    \"\"\"\n",
    "    \n",
    "    # Q_coef[i][j]: local field of i if i==j; coupling strength if i!=j\n",
    "    Q = 0.5*(Q + Q.T) # making sure Q is symmetric\n",
    "    N = Q.shape[0]\n",
    "    M = len(temp_seq) # number of replicas\n",
    "    \n",
    "    if ansatz_state is None:\n",
    "        state = (np.random.binomial(1, 0.5, N) == 1)\n",
    "    else:\n",
    "        state = ansatz_state\n",
    "    \n",
    "    replicas = [state.copy() for _ in range(M)] # all replicas start from the same initial state, can be changed\n",
    "    energy = np.sum(Q.dot(state).dot(state))\n",
    "    energies = [energy for _ in range(M)] # energies corresponding to replicas\n",
    "    \n",
    "    for i in range(num_iter):\n",
    "        for r in range(M): # parallelizable\n",
    "            state = replicas[r]\n",
    "            flip = np.random.randint(N)\n",
    "            delta_E = 2 * (1 - 2*state[flip]) * np.sum(Q[flip][state]) + Q[flip, flip]\n",
    "            if np.random.binomial(1, np.minimum(np.exp(-delta_E/temp_seq[r]), 1.)): # local move\n",
    "                state[flip] ^= True\n",
    "                energies[r] += delta_E\n",
    "        \n",
    "        if (i+1) % re_intv == 0: # only happens once every re_intv iterations\n",
    "            s = np.random.randint(M-1) # exchange between replicas s and s+1 are chosen randomly, can be changed\n",
    "            if np.random.binomial(1, np.minimum(np.exp((energies[s] - energies[s+1]) * (1/temp_seq[s] - 1/temp_seq[s+1])), 1.)):\n",
    "                replicas[s], replicas[s+1] = replicas[s+1], replicas[s]\n",
    "                energies[s], energies[s+1] = energies[s+1], energies[s]\n",
    "    \n",
    "    return replicas[energies.index(min(energies))]"
   ]
  },
  {
   "cell_type": "code",
   "execution_count": 16,
   "metadata": {},
   "outputs": [],
   "source": [
    "Q = np.array([[-1., 0., 0., 0.], [0., 1., 0., 0.], [0., 0., 1., 0.], [0., 0., 0., 1.]])\n",
    "ansatz = np.zeros(4, dtype=np.bool_)\n",
    "\n",
    "num_iter = 100\n",
    "re_intv = 10\n",
    "TS = default_temp_schedule(10, 100., 0.4)"
   ]
  },
  {
   "cell_type": "code",
   "execution_count": 17,
   "metadata": {},
   "outputs": [
    {
     "name": "stdout",
     "output_type": "stream",
     "text": [
      "ground state: [ True False False False]; time: 0.07368588447570801 s\n"
     ]
    }
   ],
   "source": [
    "np.random.seed(0)\n",
    "start_time = time.time()\n",
    "ans = one_PT_run(Q, num_iter, re_intv, TS, ansatz_state=ansatz)\n",
    "total_time = time.time() - start_time\n",
    "print(f'ground state: {ans}; time: {total_time} s')"
   ]
  },
  {
   "cell_type": "code",
   "execution_count": null,
   "metadata": {},
   "outputs": [],
   "source": []
  }
 ],
 "metadata": {
  "kernelspec": {
   "display_name": "Python [conda env:root] *",
   "language": "python",
   "name": "conda-root-py"
  },
  "language_info": {
   "codemirror_mode": {
    "name": "ipython",
    "version": 3
   },
   "file_extension": ".py",
   "mimetype": "text/x-python",
   "name": "python",
   "nbconvert_exporter": "python",
   "pygments_lexer": "ipython3",
   "version": "3.8.5"
  }
 },
 "nbformat": 4,
 "nbformat_minor": 4
}
