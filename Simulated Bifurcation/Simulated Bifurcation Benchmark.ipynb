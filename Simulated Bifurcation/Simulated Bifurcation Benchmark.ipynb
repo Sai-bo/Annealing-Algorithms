{
 "cells": [
  {
   "cell_type": "markdown",
   "id": "593b7fdb",
   "metadata": {},
   "source": [
    "### Note: Possibility of improvements over the choices of p(t), a0, c0"
   ]
  },
  {
   "cell_type": "markdown",
   "id": "b8886349",
   "metadata": {},
   "source": [
    "This notebook aims to showcase Ising solvers running simulated bifurcation.\n",
    "\n",
    "References:\n",
    "1. https://advances.sciencemag.org/content/5/4/eaav2372\n",
    "2. https://advances.sciencemag.org/content/7/6/eabe7953"
   ]
  },
  {
   "cell_type": "code",
   "execution_count": 1,
   "id": "2be230d7",
   "metadata": {},
   "outputs": [],
   "source": [
    "import numpy as np\n",
    "import scipy as sp\n",
    "import multiprocessing as mp\n",
    "import time\n",
    "import os\n",
    "from scipy.sparse import csr_matrix"
   ]
  },
  {
   "cell_type": "markdown",
   "id": "c6b35452",
   "metadata": {},
   "source": [
    "### Setting float precision"
   ]
  },
  {
   "cell_type": "code",
   "execution_count": 2,
   "id": "8f1200b1",
   "metadata": {},
   "outputs": [],
   "source": [
    "flt = np.float32"
   ]
  },
  {
   "cell_type": "markdown",
   "id": "6b49b45b",
   "metadata": {},
   "source": [
    "### SB algorithms"
   ]
  },
  {
   "cell_type": "code",
   "execution_count": 3,
   "id": "a871eb0e",
   "metadata": {},
   "outputs": [],
   "source": [
    "#@nb.njit(parallel=False)\n",
    "def one_aSB_run(Q_matrix, steps, dt, Kerr_coef, a0, c0, init_y):\n",
    "    \"\"\"\n",
    "    One (adiabatic) simulated bifurcation run over the full pump schedule.\n",
    "    \n",
    "    Parameters:\n",
    "        Q_matrix (2-D array of float): The matrix representing the coupling field of the problem.\n",
    "                                       Notice that the diagonal elements should be all zero.\n",
    "        steps (int): The number of iterations.\n",
    "        dt (float): Time step for the discretized time.\n",
    "        Kerr_coef (float): The Kerr coefficient.\n",
    "        a0, c0 (float): Positive constants.\n",
    "        init_y (1-D array of float): Initial y.\n",
    "    \n",
    "    Return: final_state (1-D array of float)\n",
    "    \"\"\"\n",
    "    \n",
    "    #if np.diagonal(Q_matrix).any():\n",
    "    #    raise ValueError(\"Diagonal elements of Q should be all zero.\")\n",
    "    \n",
    "    #np.random.seed(sd)\n",
    "    \n",
    "    N = Q_matrix.shape[0]\n",
    "    x = flt(np.zeros(N))\n",
    "    y = flt(init_y)\n",
    "    \n",
    "    for k in range(steps):\n",
    "        x += a0 * y * dt\n",
    "        y -= (Kerr_coef * x**3 + a0 * (1. - k/steps) * x - c0 * Q_matrix.dot(x)) * dt\n",
    "        #x_history[k] = x # for analysis purposes\n",
    "    \n",
    "    return np.sign(x)"
   ]
  },
  {
   "cell_type": "code",
   "execution_count": 4,
   "id": "5eacd2ed",
   "metadata": {},
   "outputs": [],
   "source": [
    "#@nb.njit(parallel=False)\n",
    "def one_bSB_run(Q_matrix, steps, dt, a0, c0, init_y):\n",
    "    \"\"\"\n",
    "    One ballistic simulated bifurcation run over the full pump schedule.\n",
    "    \n",
    "    Parameters:\n",
    "        Q_matrix (2-D array of float): The matrix representing the local and coupling field of the problem.\n",
    "                                       Notice that the diagonal elements should be all zero.\n",
    "        steps (int): The number of iterations.\n",
    "        dt (float): Time step for the discretized time.\n",
    "        a0, c0 (float): Positive constants.\n",
    "        init_y (1-D array of float): Initial y.\n",
    "    \n",
    "    Return: final_state (1-D array of float)\n",
    "    \"\"\"\n",
    "    \n",
    "    #if np.diagonal(Q_matrix).any():\n",
    "    #    raise ValueError(\"Diagonal elements of Q should be all zero.\")\n",
    "    \n",
    "    #np.random.seed(sd)\n",
    "    \n",
    "    N = Q_matrix.shape[0]\n",
    "    x = flt(np.zeros(N))\n",
    "    y = flt(init_y)\n",
    "    \n",
    "    for k in range(steps):\n",
    "        x += a0 * y * dt\n",
    "        y -= (a0 * (1. - k/steps) * x - c0 * Q_matrix.dot(x)) * dt # pump increases from 0 to a0 linearly\n",
    "        for i in range(N): # parallelizable\n",
    "            if np.abs(x[i]) > 1:\n",
    "                x[i] = np.sign(x[i])\n",
    "                y[i] = 0\n",
    "        #x_history[k] = x # for analysis purposes\n",
    "    \n",
    "    return np.sign(x)"
   ]
  },
  {
   "cell_type": "code",
   "execution_count": 5,
   "id": "d0c31970",
   "metadata": {},
   "outputs": [],
   "source": [
    "#@nb.njit(parallel=False)\n",
    "def one_dSB_run(Q_matrix, steps, dt, a0, c0, init_y):\n",
    "    \"\"\"\n",
    "    One discrete simulated bifurcation run over the full pump schedule.\n",
    "    \n",
    "    Parameters:\n",
    "        Q_matrix (2-D array of float): The matrix representing the local and coupling field of the problem.\n",
    "                                       Notice that the diagonal elements should be all zero.\n",
    "        steps (int): The number of iterations.\n",
    "        dt (float): Time step for the discretized time.\n",
    "        a0, c0 (float): Positive constants.\n",
    "        init_y (1-D array of float): Initial y.\n",
    "    \n",
    "    Return: final_state (1-D array of float)\n",
    "    \"\"\"\n",
    "    \n",
    "    #if np.diagonal(Q_matrix).any():\n",
    "    #    raise ValueError(\"Diagonal elements of Q should be all zero.\")\n",
    "    \n",
    "    #np.random.seed(sd)\n",
    "    \n",
    "    N = Q_matrix.shape[0]\n",
    "    x = flt(np.zeros(N))\n",
    "    y = flt(init_y)\n",
    "    \n",
    "    for k in range(steps):\n",
    "        x += a0 * y * dt\n",
    "        y -= (a0 * (1. - k/steps) * x - c0 * Q_matrix.dot(np.sign(x))) * dt\n",
    "        for i in range(N): # parallelizable\n",
    "            if np.abs(x[i]) > 1:\n",
    "                x[i] = np.sign(x[i])\n",
    "                y[i] = 0\n",
    "        #x_history[k] = x # for analysis purposes\n",
    "    \n",
    "    return np.sign(x)"
   ]
  },
  {
   "cell_type": "markdown",
   "id": "1f208520",
   "metadata": {},
   "source": [
    "### Import problem instances\n",
    "Make sure diagonal elements are all zero. SB algorithms do not work with local fields."
   ]
  },
  {
   "cell_type": "code",
   "execution_count": 23,
   "id": "770a8517",
   "metadata": {},
   "outputs": [],
   "source": [
    "def Ising_from_MaxCut_file(abs_file_path):\n",
    "    \"\"\"\n",
    "    Import an MaxCut problem from file, and turn it into Ising form.\n",
    "    \n",
    "    Parameters:\n",
    "        abs_file_path (str): The absolute file path for the MaxCut instance file.\n",
    "    \n",
    "    Return: A CSR sparse matrix in Ising form.\n",
    "    \"\"\"\n",
    "    \n",
    "    with open(abs_file_path, 'r') as f:\n",
    "        coef_lst = f.read().split()\n",
    "    \n",
    "    return csr_matrix(([int(x) for x in coef_lst[4::3]], ([int(x)-1 for x in coef_lst[2::3]], \\\n",
    "                        [int(x)-1 for x in coef_lst[3::3]])), shape=(int(coef_lst[0]), int(coef_lst[0])))"
   ]
  },
  {
   "cell_type": "code",
   "execution_count": 27,
   "id": "4552a5c2",
   "metadata": {},
   "outputs": [],
   "source": [
    "N = 60\n",
    "ins = 0\n",
    "abs_file_path = os.getcwd() + f\"/mac_all/rudy/g05_{N}.{ins}\" # absolute dir\n",
    "J = Ising_from_file(abs_file_path)\n",
    "\n",
    "steps = 200000\n",
    "total_time = 200\n",
    "dt = flt(total_time/steps)\n",
    "Kerr_coef = flt(.1)\n",
    "a0 = flt(1)\n",
    "c0 = flt(.3)\n",
    "\n",
    "np.random.seed(0)\n",
    "init_y = np.random.uniform(flt(-0.1), flt(0.1), J.shape[0])"
   ]
  },
  {
   "cell_type": "code",
   "execution_count": 32,
   "id": "6fb4c562",
   "metadata": {},
   "outputs": [
    {
     "name": "stdout",
     "output_type": "stream",
     "text": [
      "energy: -3.0; cut value: 444.0; time: 8.48065996170044 s\n"
     ]
    }
   ],
   "source": [
    "# Without numba\n",
    "start_time = time.time()\n",
    "fin_state = one_aSB_run(J, steps, dt, Kerr_coef, a0, c0, init_y)\n",
    "fin_energy = fin_state.dot(J.dot(fin_state))\n",
    "cut_val = 0.5 * (np.sum(J) - fin_energy)\n",
    "total_time = time.time() - start_time\n",
    "print(f'energy: {fin_energy}; cut value: {cut_val}; time: {total_time} s')"
   ]
  },
  {
   "cell_type": "code",
   "execution_count": 35,
   "id": "ae3e5264",
   "metadata": {},
   "outputs": [],
   "source": [
    "def main(N, ins, sd):\n",
    "    abs_file_path = os.getcwd() + f\"/mac_all/rudy/g05_{N}.{ins}\" # absolute dir\n",
    "    J = Ising_from_file(abs_file_path)\n",
    "    \n",
    "    np.random.seed(sd)\n",
    "    init_y = np.random.uniform(flt(-0.1), flt(0.1), J.shape[0])\n",
    "    \n",
    "    fin_state = one_aSB_run(J, steps, dt, Kerr_coef, a0, c0, init_y)\n",
    "    fin_energy = fin_state.dot(J.dot(fin_state))\n",
    "    return int(0.5 * (np.sum(J) - fin_energy))"
   ]
  },
  {
   "cell_type": "code",
   "execution_count": 36,
   "id": "2b6d3cb1",
   "metadata": {},
   "outputs": [],
   "source": [
    "for N in [60, 80, 100]:\n",
    "    for ins in range(10):\n",
    "        for sd in range(10):\n",
    "            with open(os.getcwd()+'/out.txt', 'a') as f:\n",
    "                f.write(f\"{N} {ins} {sd} {main(N, ins, sd)}\\n\")"
   ]
  },
  {
   "cell_type": "code",
   "execution_count": null,
   "id": "7d6a6147",
   "metadata": {},
   "outputs": [],
   "source": []
  }
 ],
 "metadata": {
  "kernelspec": {
   "display_name": "Python [conda env:root]",
   "language": "python",
   "name": "conda-root-py"
  },
  "language_info": {
   "codemirror_mode": {
    "name": "ipython",
    "version": 3
   },
   "file_extension": ".py",
   "mimetype": "text/x-python",
   "name": "python",
   "nbconvert_exporter": "python",
   "pygments_lexer": "ipython3",
   "version": "3.8.5"
  }
 },
 "nbformat": 4,
 "nbformat_minor": 5
}
