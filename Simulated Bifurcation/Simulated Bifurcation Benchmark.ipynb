{
 "cells": [
  {
   "cell_type": "markdown",
   "id": "5c97dca6",
   "metadata": {},
   "source": [
    "### Note: Possibility of improvements over the choices of p(t), a0, c0"
   ]
  },
  {
   "cell_type": "markdown",
   "id": "7b1c92f9",
   "metadata": {},
   "source": [
    "This notebook aims to showcase Ising solvers running simulated bifurcation.\n",
    "\n",
    "References:\n",
    "1. https://advances.sciencemag.org/content/5/4/eaav2372\n",
    "2. https://advances.sciencemag.org/content/7/6/eabe7953"
   ]
  },
  {
   "cell_type": "code",
   "execution_count": 8,
   "id": "01e9e565",
   "metadata": {},
   "outputs": [],
   "source": [
    "import numpy as np\n",
    "import scipy as sp\n",
    "import numba as nb\n",
    "import multiprocessing as mp\n",
    "import time\n",
    "import os\n",
    "from scipy.sparse import csr_matrix"
   ]
  },
  {
   "cell_type": "markdown",
   "id": "a104b9ec",
   "metadata": {},
   "source": [
    "### Setting float precision"
   ]
  },
  {
   "cell_type": "code",
   "execution_count": 25,
   "id": "3a7b28fc",
   "metadata": {},
   "outputs": [],
   "source": [
    "flt = np.float32"
   ]
  },
  {
   "cell_type": "markdown",
   "id": "4186b1e4",
   "metadata": {},
   "source": [
    "### SB algorithms"
   ]
  },
  {
   "cell_type": "code",
   "execution_count": 40,
   "id": "58562aae",
   "metadata": {},
   "outputs": [],
   "source": [
    "#@nb.njit(parallel=False)\n",
    "def one_aSB_run(Q_matrix, steps, dt, Kerr_coef, a0, c0, init_y):\n",
    "    \"\"\"\n",
    "    One (adiabatic) simulated bifurcation run over the full pump schedule.\n",
    "    \n",
    "    Parameters:\n",
    "        Q_matrix (2-D array of float): The matrix representing the coupling field of the problem.\n",
    "                                       Notice that the diagonal elements should be all zero.\n",
    "        steps (int): The number of iterations.\n",
    "        dt (float): Time step for the discretized time.\n",
    "        Kerr_coef (float): The Kerr coefficient.\n",
    "        a0, c0 (float): Positive constants.\n",
    "        init_y (1-D array of float): Initial y.\n",
    "    \n",
    "    Return: final_state (1-D array of float)\n",
    "    \"\"\"\n",
    "    \n",
    "    #if np.diagonal(Q_matrix).any():\n",
    "    #    raise ValueError(\"Diagonal elements of Q should be all zero.\")\n",
    "    \n",
    "    #np.random.seed(sd)\n",
    "    \n",
    "    N = Q_matrix.shape[0]\n",
    "    x = flt(np.zeros(N))\n",
    "    y = flt(init_y)\n",
    "    \n",
    "    for k in range(steps):\n",
    "        x += a0 * y * dt\n",
    "        y -= (Kerr_coef * x**3 + a0 * (1. - k/steps) * x - c0 * Q_matrix.dot(x)) * dt\n",
    "        #x_history[k] = x # for analysis purposes\n",
    "    \n",
    "    return np.sign(x)"
   ]
  },
  {
   "cell_type": "code",
   "execution_count": 41,
   "id": "7c5898f6",
   "metadata": {},
   "outputs": [],
   "source": [
    "#@nb.njit(parallel=False)\n",
    "def one_bSB_run(Q_matrix, steps, dt, a0, c0, init_y):\n",
    "    \"\"\"\n",
    "    One ballistic simulated bifurcation run over the full pump schedule.\n",
    "    \n",
    "    Parameters:\n",
    "        Q_matrix (2-D array of float): The matrix representing the local and coupling field of the problem.\n",
    "                                       Notice that the diagonal elements should be all zero.\n",
    "        steps (int): The number of iterations.\n",
    "        dt (float): Time step for the discretized time.\n",
    "        a0, c0 (float): Positive constants.\n",
    "        init_y (1-D array of float): Initial y.\n",
    "    \n",
    "    Return: final_state (1-D array of float)\n",
    "    \"\"\"\n",
    "    \n",
    "    #if np.diagonal(Q_matrix).any():\n",
    "    #    raise ValueError(\"Diagonal elements of Q should be all zero.\")\n",
    "    \n",
    "    #np.random.seed(sd)\n",
    "    \n",
    "    N = Q_matrix.shape[0]\n",
    "    x = flt(np.zeros(N))\n",
    "    y = flt(init_y)\n",
    "    \n",
    "    for k in range(steps):\n",
    "        x += a0 * y * dt\n",
    "        y -= (a0 * (1. - k/steps) * x - c0 * Q_matrix.dot(x)) * dt # pump increases from 0 to a0 linearly\n",
    "        for i in nb.prange(N): # parallelizable\n",
    "            if np.abs(x[i]) > 1:\n",
    "                x[i] = np.sign(x[i])\n",
    "                y[i] = 0\n",
    "        #x_history[k] = x # for analysis purposes\n",
    "    \n",
    "    return np.sign(x)"
   ]
  },
  {
   "cell_type": "code",
   "execution_count": 42,
   "id": "3054fcb1",
   "metadata": {},
   "outputs": [],
   "source": [
    "#@nb.njit(parallel=False)\n",
    "def one_dSB_run(Q_matrix, steps, dt, a0, c0, init_y):\n",
    "    \"\"\"\n",
    "    One discrete simulated bifurcation run over the full pump schedule.\n",
    "    \n",
    "    Parameters:\n",
    "        Q_matrix (2-D array of float): The matrix representing the local and coupling field of the problem.\n",
    "                                       Notice that the diagonal elements should be all zero.\n",
    "        steps (int): The number of iterations.\n",
    "        dt (float): Time step for the discretized time.\n",
    "        a0, c0 (float): Positive constants.\n",
    "        init_y (1-D array of float): Initial y.\n",
    "    \n",
    "    Return: final_state (1-D array of float)\n",
    "    \"\"\"\n",
    "    \n",
    "    #if np.diagonal(Q_matrix).any():\n",
    "    #    raise ValueError(\"Diagonal elements of Q should be all zero.\")\n",
    "    \n",
    "    #np.random.seed(sd)\n",
    "    \n",
    "    N = Q_matrix.shape[0]\n",
    "    x = flt(np.zeros(N))\n",
    "    y = flt(init_y)\n",
    "    \n",
    "    for k in range(steps):\n",
    "        x += a0 * y * dt\n",
    "        y -= (a0 * (1. - k/steps) * x - c0 * Q_matrix.dot(np.sign(x))) * dt\n",
    "        for i in nb.prange(N): # parallelizable\n",
    "            if np.abs(x[i]) > 1:\n",
    "                x[i] = np.sign(x[i])\n",
    "                y[i] = 0\n",
    "        #x_history[k] = x # for analysis purposes\n",
    "    \n",
    "    return np.sign(x)"
   ]
  },
  {
   "cell_type": "markdown",
   "id": "4d9e589c",
   "metadata": {},
   "source": [
    "### Import problem instances\n",
    "Make sure diagonal elements are all zero. SB algorithms do not accept local fields."
   ]
  },
  {
   "cell_type": "code",
   "execution_count": 44,
   "id": "1dec9305",
   "metadata": {},
   "outputs": [],
   "source": [
    "def Ising_from_file(abs_file_path):\n",
    "    with open(abs_file_path, 'r') as f:\n",
    "        coef_lst = f.read().split()\n",
    "    \n",
    "    return csr_matrix(([int(x) for x in coef_lst[4::3]], ([int(x)-1 for x in coef_lst[2::3]], \\\n",
    "                        [int(x)-1 for x in coef_lst[3::3]])), shape=(int(coef_lst[0]), int(coef_lst[0])))"
   ]
  },
  {
   "cell_type": "code",
   "execution_count": 45,
   "id": "07d6e0b3",
   "metadata": {},
   "outputs": [],
   "source": [
    "abs_file_path = os.getcwd() + f\"/Gset/G11.txt\" # absolute dir\n",
    "J = Ising_from_file(abs_file_path)\n",
    "n = 2000\n",
    "dt = flt(200/n)\n",
    "Kerr_coef = flt(1.)\n",
    "a0 = flt(0.5)\n",
    "c0 = flt(0.3)\n",
    "\n",
    "np.random.seed(0)\n",
    "init_y = np.random.uniform(flt(-0.1), flt(0.1), Q.shape[0])"
   ]
  },
  {
   "cell_type": "code",
   "execution_count": 43,
   "id": "40f53fc7",
   "metadata": {},
   "outputs": [
    {
     "name": "stdout",
     "output_type": "stream",
     "text": [
      "ground state: [ 1.  1.  1. -1. -1. -1. -1. -1. -1.  1. -1.  1.  1.  1. -1. -1. -1. -1.\n",
      "  1.  1.  1. -1.  1.  1. -1. -1.  1.  1.  1.  1.  1. -1.  1. -1. -1.  1.\n",
      "  1.  1. -1.  1.  1. -1. -1. -1.  1. -1.  1.  1. -1.  1.  1. -1.  1. -1.\n",
      "  1.  1.  1. -1. -1.  1. -1.  1. -1. -1. -1.  1. -1. -1.  1.  1.  1. -1.\n",
      " -1.  1. -1.  1.  1. -1.  1.  1. -1. -1.  1.  1.  1. -1.  1. -1. -1.  1.\n",
      " -1.  1. -1.  1. -1. -1.  1. -1. -1. -1. -1.  1. -1.  1. -1.  1. -1.  1.\n",
      "  1. -1. -1.  1. -1. -1. -1. -1. -1.  1. -1. -1. -1.  1.  1.  1.  1.  1.\n",
      "  1.  1. -1.  1. -1.  1.  1.  1.  1. -1. -1.  1.  1.  1.  1. -1.  1. -1.\n",
      "  1.  1. -1. -1.  1. -1.  1.  1.  1.  1. -1.  1.  1. -1. -1.  1. -1. -1.\n",
      "  1.  1.  1. -1. -1.  1. -1.  1.  1. -1. -1. -1. -1.  1. -1. -1.  1.  1.\n",
      "  1. -1.  1.  1.  1.  1. -1. -1.  1.  1.  1.  1. -1.  1.  1. -1.  1. -1.\n",
      "  1.  1.  1.  1. -1. -1.  1.  1. -1. -1. -1.  1.  1. -1.  1.  1.  1. -1.\n",
      " -1.  1. -1. -1. -1. -1. -1.  1.  1.  1. -1.  1.  1.  1. -1.  1.  1.  1.\n",
      " -1. -1. -1. -1.  1.  1. -1.  1.  1.  1.  1. -1. -1. -1.  1. -1.  1.  1.\n",
      " -1. -1.  1.  1.  1.  1. -1.  1. -1. -1.  1.  1. -1.  1.  1. -1. -1.  1.\n",
      "  1.  1. -1. -1.  1.  1.  1. -1. -1. -1.  1. -1. -1.  1.  1. -1. -1.  1.\n",
      "  1.  1.  1.  1. -1. -1.  1. -1.  1.  1. -1.  1.  1.  1. -1.  1. -1.  1.\n",
      "  1. -1.  1.  1. -1.  1. -1. -1. -1. -1. -1. -1.  1.  1. -1.  1.  1. -1.\n",
      " -1. -1. -1.  1.  1. -1. -1. -1. -1.  1. -1.  1. -1. -1. -1.  1. -1.  1.\n",
      "  1.  1. -1. -1. -1.  1.  1.  1. -1. -1. -1. -1. -1.  1.  1. -1. -1.  1.\n",
      "  1.  1.  1. -1.  1. -1.  1.  1. -1. -1. -1. -1. -1.  1.  1.  1.  1.  1.\n",
      "  1. -1.  1. -1. -1.  1. -1.  1.  1. -1. -1.  1.  1. -1. -1. -1.  1.  1.\n",
      "  1.  1. -1.  1.  1.  1. -1.  1. -1. -1.  1.  1. -1. -1. -1.  1.  1.  1.\n",
      "  1. -1. -1. -1. -1. -1.  1.  1.  1. -1.  1. -1.  1. -1. -1.  1.  1. -1.\n",
      " -1. -1.  1.  1. -1. -1.  1. -1. -1. -1. -1. -1.  1. -1. -1. -1.  1.  1.\n",
      " -1. -1.  1.  1. -1.  1. -1. -1.  1. -1.  1. -1.  1.  1. -1.  1.  1. -1.\n",
      "  1.  1. -1.  1. -1.  1.  1. -1. -1.  1. -1. -1. -1.  1.  1.  1.  1.  1.\n",
      "  1.  1. -1. -1. -1. -1. -1. -1. -1.  1.  1.  1. -1. -1. -1.  1. -1.  1.\n",
      "  1.  1.  1. -1. -1.  1.  1.  1. -1. -1.  1. -1.  1.  1.  1. -1.  1. -1.\n",
      "  1. -1.  1.  1. -1.  1. -1. -1.  1. -1.  1.  1.  1.  1. -1. -1. -1.  1.\n",
      "  1. -1.  1. -1.  1.  1. -1.  1.  1. -1.  1.  1. -1.  1. -1. -1.  1. -1.\n",
      " -1. -1. -1.  1.  1.  1. -1. -1. -1.  1. -1.  1. -1. -1.  1. -1. -1. -1.\n",
      " -1. -1.  1. -1. -1. -1. -1. -1.  1.  1.  1.  1.  1.  1.  1. -1.  1. -1.\n",
      "  1. -1.  1.  1. -1.  1.  1.  1. -1.  1.  1. -1. -1. -1. -1. -1.  1.  1.\n",
      " -1.  1. -1. -1.  1.  1. -1.  1.  1. -1. -1. -1. -1.  1. -1.  1.  1.  1.\n",
      "  1.  1.  1.  1. -1. -1. -1. -1. -1. -1.  1.  1. -1.  1.  1. -1.  1.  1.\n",
      "  1. -1.  1.  1. -1.  1.  1.  1.  1.  1. -1. -1. -1.  1.  1. -1. -1.  1.\n",
      " -1.  1.  1.  1.  1.  1. -1. -1.  1.  1. -1. -1.  1. -1. -1.  1.  1. -1.\n",
      "  1.  1.  1. -1. -1.  1. -1.  1. -1. -1. -1.  1.  1. -1. -1.  1. -1. -1.\n",
      " -1.  1. -1.  1. -1. -1.  1. -1. -1. -1.  1. -1.  1. -1. -1. -1.  1. -1.\n",
      " -1. -1. -1.  1. -1.  1. -1.  1. -1. -1.  1. -1.  1. -1. -1.  1.  1. -1.\n",
      "  1. -1.  1.  1. -1.  1. -1.  1. -1. -1. -1. -1.  1.  1. -1.  1. -1. -1.\n",
      " -1. -1. -1. -1. -1.  1.  1.  1. -1. -1.  1. -1. -1. -1. -1.  1. -1.  1.\n",
      "  1.  1.  1. -1.  1. -1.  1.  1. -1.  1.  1. -1. -1. -1. -1.  1.  1.  1.\n",
      "  1.  1. -1.  1. -1.  1. -1.  1.]; time: 0.6834707260131836 s\n"
     ]
    }
   ],
   "source": [
    "# Without numba\n",
    "x_history = np.zeros((n, 2))\n",
    "start_time = time.time()\n",
    "ans = one_aSB_run(J, n, dt, Kerr_coef, a0, c0, init_y)\n",
    "total_time = time.time() - start_time\n",
    "print(f'ground state: {ans}; time: {total_time} s')"
   ]
  },
  {
   "cell_type": "code",
   "execution_count": 7,
   "id": "4a6fcd71",
   "metadata": {},
   "outputs": [
    {
     "name": "stdout",
     "output_type": "stream",
     "text": [
      "ground state: [-1. -1.]; time: 0.06502366065979004 s\n"
     ]
    }
   ],
   "source": [
    "# Without numba\n",
    "x_history = np.zeros((n, 2))\n",
    "start_time = time.time()\n",
    "ans = one_bSB_run(Q, n, dt, a0, c0)\n",
    "total_time = time.time() - start_time\n",
    "print(f'ground state: {ans}; time: {total_time} s')"
   ]
  },
  {
   "cell_type": "code",
   "execution_count": 10,
   "id": "d92389f2",
   "metadata": {},
   "outputs": [
    {
     "name": "stdout",
     "output_type": "stream",
     "text": [
      "ground state: [1. 1.]; time: 0.05405735969543457 s\n"
     ]
    }
   ],
   "source": [
    "# Without numba\n",
    "x_history = np.zeros((n, 2))\n",
    "start_time = time.time()\n",
    "ans = one_dSB_run(Q, n, dt, a0, c0)\n",
    "total_time = time.time() - start_time\n",
    "print(f'ground state: {ans}; time: {total_time} s')"
   ]
  },
  {
   "cell_type": "code",
   "execution_count": null,
   "id": "8f1cac9a",
   "metadata": {},
   "outputs": [],
   "source": []
  }
 ],
 "metadata": {
  "kernelspec": {
   "display_name": "Python [conda env:root]",
   "language": "python",
   "name": "conda-root-py"
  },
  "language_info": {
   "codemirror_mode": {
    "name": "ipython",
    "version": 3
   },
   "file_extension": ".py",
   "mimetype": "text/x-python",
   "name": "python",
   "nbconvert_exporter": "python",
   "pygments_lexer": "ipython3",
   "version": "3.8.5"
  }
 },
 "nbformat": 4,
 "nbformat_minor": 5
}
